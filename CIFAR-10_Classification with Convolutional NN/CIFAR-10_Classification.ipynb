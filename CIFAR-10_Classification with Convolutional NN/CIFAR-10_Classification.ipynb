{
 "cells": [
  {
   "cell_type": "markdown",
   "metadata": {},
   "source": [
    "## Classification of CIFAR-10 Dataset by using Convolutional neural network"
   ]
  },
  {
   "cell_type": "markdown",
   "metadata": {
    "collapsed": true
   },
   "source": [
    "The CIFAR-10 dataset consists of 60000 32x32 colour images in 10 classes, with 6000 images per class. There are 50000 training images and 10000 test images. \n",
    "\n",
    "I used Convolutional neural network to classify each image into one of the 10 classes. \n",
    "\n",
    "The best accuracy is 76.67 in validation set."
   ]
  },
  {
   "cell_type": "code",
   "execution_count": null,
   "metadata": {
    "collapsed": true
   },
   "outputs": [],
   "source": []
  },
  {
   "cell_type": "code",
   "execution_count": 7,
   "metadata": {},
   "outputs": [],
   "source": [
    "# Import necessary modules\n",
    "\n",
    "import numpy\n",
    "from keras.datasets import cifar10\n",
    "from keras.datasets import mnist\n",
    "from keras.models import Sequential\n",
    "\n",
    "from keras.layers import Dense\n",
    "from keras.layers import Dropout\n",
    "from keras.layers import Flatten\n",
    "from keras.layers.convolutional import Conv2D\n",
    "from keras.constraints import maxnorm\n",
    "from keras.optimizers import SGD\n",
    "from keras.layers.convolutional import Convolution2D\n",
    "from keras.layers.convolutional import MaxPooling2D\n",
    "\n",
    "from keras.utils import np_utils\n",
    "from keras import backend as K\n",
    "K.set_image_dim_ordering('th')\n",
    "from keras.optimizers import Adam\n",
    "from keras.callbacks import EarlyStopping\n",
    "\n",
    "import matplotlib.pyplot as plt\n",
    "\n",
    "from keras.layers import Convolution2D, MaxPooling2D, Flatten, AveragePooling2D\n",
    "from keras.layers import Dense, Activation"
   ]
  },
  {
   "cell_type": "code",
   "execution_count": null,
   "metadata": {
    "collapsed": true
   },
   "outputs": [],
   "source": []
  },
  {
   "cell_type": "code",
   "execution_count": null,
   "metadata": {
    "collapsed": true
   },
   "outputs": [],
   "source": []
  },
  {
   "cell_type": "markdown",
   "metadata": {
    "collapsed": true
   },
   "source": [
    "### Data Cleaning"
   ]
  },
  {
   "cell_type": "code",
   "execution_count": 8,
   "metadata": {
    "collapsed": true
   },
   "outputs": [],
   "source": [
    "# load data\n",
    "(X_train, y_train), (X_test, y_test) = cifar10.load_data()\n",
    "\n",
    "\n",
    "# normalize inputs from 0-255 to 0.0-1.0\n",
    "X_train = X_train.astype('float32')\n",
    "X_test = X_test.astype('float32')\n",
    "X_train = X_train / 255.0\n",
    "X_test = X_test / 255.0\n",
    "\n",
    "from keras.utils import np_utils\n",
    "# one hot encode outputs\n",
    "y_train = np_utils.to_categorical(y_train)\n",
    "y_test = np_utils.to_categorical(y_test)\n",
    "num_classes = y_test.shape[1]\n",
    "\n",
    "X_train = X_train.reshape(X_train.shape[0], 3, 32, 32)\n",
    "X_test = X_test.reshape(X_test.shape[0], 3, 32, 32)\n"
   ]
  },
  {
   "cell_type": "code",
   "execution_count": null,
   "metadata": {
    "collapsed": true
   },
   "outputs": [],
   "source": []
  },
  {
   "cell_type": "markdown",
   "metadata": {
    "collapsed": true
   },
   "source": [
    "### Simple Convolutional Neural Network"
   ]
  },
  {
   "cell_type": "code",
   "execution_count": 66,
   "metadata": {
    "collapsed": true
   },
   "outputs": [],
   "source": [
    "def simple_neural_network_cov2D():\n",
    "    width = 2\n",
    "    height = 2\n",
    "    classes = 10\n",
    "    drop_rate = 0.2\n",
    "    feture_maps = 10\n",
    "    filter_size=2\n",
    "    num_full_connected_layers=128\n",
    "    \n",
    "    optimizer = 'adam'\n",
    "    batch_size =100\n",
    "    # create model\n",
    "    model = Sequential()\n",
    "    model.add(Conv2D(32, (3, 3), input_shape=(3, 32, 32), activation='relu'))\n",
    "    model.add(MaxPooling2D(pool_size=(2, 2)))\n",
    "    \n",
    "    model.add(Conv2D(64, (2, 2), activation='relu'))\n",
    "    model.add(MaxPooling2D(pool_size=(2, 2)))\n",
    "    \n",
    "    model.add(Conv2D(128, (2, 2), activation='relu'))\n",
    "    model.add(MaxPooling2D(pool_size=(2, 2)))\n",
    "    \n",
    "    model.add(Dropout(drop_rate))\n",
    "    \n",
    "    model.add(Flatten())    \n",
    "    \n",
    "    model.add(Dense(500, activation='relu'))\n",
    "    \n",
    "    model.add(Dense(num_classes, activation='softmax'))\n",
    "    \n",
    "\n",
    "    return model \n",
    "\n",
    "\n",
    "\n",
    "\n"
   ]
  },
  {
   "cell_type": "code",
   "execution_count": 67,
   "metadata": {
    "collapsed": true
   },
   "outputs": [],
   "source": [
    "model = simple_neural_network_cov2D()"
   ]
  },
  {
   "cell_type": "code",
   "execution_count": 68,
   "metadata": {},
   "outputs": [
    {
     "name": "stdout",
     "output_type": "stream",
     "text": [
      "Train on 40000 samples, validate on 10000 samples\n",
      "Epoch 1/20\n",
      "40000/40000 [==============================] - 110s - loss: 1.6367 - acc: 0.4047 - val_loss: 1.3245 - val_acc: 0.5362\n",
      "Epoch 2/20\n",
      "40000/40000 [==============================] - 109s - loss: 1.2021 - acc: 0.5728 - val_loss: 1.0873 - val_acc: 0.6214\n",
      "Epoch 3/20\n",
      "40000/40000 [==============================] - 109s - loss: 1.0273 - acc: 0.6376 - val_loss: 0.9930 - val_acc: 0.6536\n",
      "Epoch 4/20\n",
      "40000/40000 [==============================] - 109s - loss: 0.9058 - acc: 0.6830 - val_loss: 0.9001 - val_acc: 0.6880\n",
      "Epoch 5/20\n",
      "40000/40000 [==============================] - 109s - loss: 0.8088 - acc: 0.7169 - val_loss: 0.8548 - val_acc: 0.7052\n",
      "Epoch 6/20\n",
      "40000/40000 [==============================] - 109s - loss: 0.7268 - acc: 0.7418 - val_loss: 0.8171 - val_acc: 0.7172\n",
      "Epoch 7/20\n",
      "40000/40000 [==============================] - 109s - loss: 0.6517 - acc: 0.7723 - val_loss: 0.8011 - val_acc: 0.7280\n",
      "Epoch 8/20\n",
      "40000/40000 [==============================] - 109s - loss: 0.5876 - acc: 0.7915 - val_loss: 0.8089 - val_acc: 0.7259\n",
      "Epoch 9/20\n",
      "40000/40000 [==============================] - 109s - loss: 0.5254 - acc: 0.8137 - val_loss: 0.8194 - val_acc: 0.7230\n",
      "Epoch 10/20\n",
      "40000/40000 [==============================] - 109s - loss: 0.4762 - acc: 0.8324 - val_loss: 0.8444 - val_acc: 0.7306\n",
      "Epoch 11/20\n",
      "40000/40000 [==============================] - 109s - loss: 0.4277 - acc: 0.8477 - val_loss: 0.8745 - val_acc: 0.7292\n",
      "Epoch 12/20\n",
      "40000/40000 [==============================] - 109s - loss: 0.3994 - acc: 0.8567 - val_loss: 0.8866 - val_acc: 0.7282\n",
      "Epoch 13/20\n",
      "40000/40000 [==============================] - 110s - loss: 0.3594 - acc: 0.8737 - val_loss: 0.9306 - val_acc: 0.7208\n",
      "Epoch 14/20\n",
      "40000/40000 [==============================] - 109s - loss: 0.3375 - acc: 0.8801 - val_loss: 0.9609 - val_acc: 0.7285\n",
      "Epoch 15/20\n",
      "40000/40000 [==============================] - 109s - loss: 0.3153 - acc: 0.8892 - val_loss: 1.0020 - val_acc: 0.7221\n",
      "Epoch 16/20\n",
      "40000/40000 [==============================] - 109s - loss: 0.3001 - acc: 0.8938 - val_loss: 0.9831 - val_acc: 0.7281\n",
      "Epoch 17/20\n",
      "40000/40000 [==============================] - 109s - loss: 0.2880 - acc: 0.8987 - val_loss: 1.0530 - val_acc: 0.7297\n",
      "Epoch 18/20\n",
      "40000/40000 [==============================] - 109s - loss: 0.2729 - acc: 0.9062 - val_loss: 1.0467 - val_acc: 0.7311\n",
      "Epoch 19/20\n",
      "40000/40000 [==============================] - 109s - loss: 0.2625 - acc: 0.9092 - val_loss: 1.0466 - val_acc: 0.7317\n",
      "Epoch 20/20\n",
      "40000/40000 [==============================] - 109s - loss: 0.2485 - acc: 0.9162 - val_loss: 1.1768 - val_acc: 0.7147\n"
     ]
    }
   ],
   "source": [
    "sgd = SGD(lr=0.01, momentum=0.9, nesterov=True)\n",
    "model.compile(loss='categorical_crossentropy', optimizer=sgd, metrics=['accuracy'])\n",
    "hist = model.fit(X_train, y_train, nb_epoch=20, validation_split=0.2)"
   ]
  },
  {
   "cell_type": "code",
   "execution_count": 70,
   "metadata": {},
   "outputs": [
    {
     "data": {
      "image/png": "[encoded data removed]",
      "text/plain": [
       "<matplotlib.figure.Figure at 0x7f0bb988bcd0>"
      ]
     },
     "metadata": {},
     "output_type": "display_data"
    }
   ],
   "source": [
    "# plot train and test set\n",
    "\n",
    "import matplotlib.pyplot as plt\n",
    "\n",
    "f=plt.figure()\n",
    "plt.plot(hist.history['loss'], linewidth=3, label='train')\n",
    "plt.plot(hist.history['val_loss'], linewidth=3, label='valid')\n",
    "plt.grid()\n",
    "plt.legend()\n",
    "plt.xlabel('epoch')\n",
    "plt.ylabel('loss')\n",
    "plt.yscale('log')\n",
    "plt.show()"
   ]
  },
  {
   "cell_type": "markdown",
   "metadata": {
    "collapsed": true
   },
   "source": [
    "### More Complicated Neural Network"
   ]
  },
  {
   "cell_type": "markdown",
   "metadata": {},
   "source": [
    "Make models more complicated in order to increase acuracy"
   ]
  },
  {
   "cell_type": "code",
   "execution_count": 28,
   "metadata": {
    "collapsed": true
   },
   "outputs": [],
   "source": [
    "# load data\n",
    "(X_train, y_train), (X_test, y_test) = cifar10.load_data()\n",
    "\n",
    "\n",
    "# normalize inputs from 0-255 to 0.0-1.0\n",
    "X_train = X_train.astype('float32')\n",
    "X_test = X_test.astype('float32')\n",
    "X_train = X_train / 255.0\n",
    "X_test = X_test / 255.0\n",
    "\n",
    "from keras.utils import np_utils\n",
    "# one hot encode outputs\n",
    "y_train = np_utils.to_categorical(y_train)\n",
    "y_test = np_utils.to_categorical(y_test)\n",
    "num_classes = y_test.shape[1]\n",
    "\n",
    "X_train = X_train.reshape(X_train.shape[0], 3, 32, 32)\n",
    "X_test = X_test.reshape(X_test.shape[0], 3, 32, 32)"
   ]
  },
  {
   "cell_type": "code",
   "execution_count": 30,
   "metadata": {
    "collapsed": true
   },
   "outputs": [],
   "source": [
    "def neural_network_cov2D():\n",
    "    \n",
    "    batch_size =100\n",
    "    # create model\n",
    "    model = Sequential()\n",
    "    model.add(Conv2D(32, (3, 3), input_shape=(3, 32, 32), activation='relu'))\n",
    "    model.add(MaxPooling2D(pool_size=(2, 2)))\n",
    "    model.add(Dropout(0.1))\n",
    "    \n",
    "    model.add(Conv2D(64, (2, 2), activation='relu'))\n",
    "    model.add(MaxPooling2D(pool_size=(2, 2)))\n",
    "    model.add(Dropout(0.1))\n",
    "    \n",
    "    model.add(Conv2D(128, (2, 2), activation='relu'))\n",
    "    model.add(MaxPooling2D(pool_size=(2, 2)))\n",
    "    \n",
    "    model.add(Dropout(0.1))\n",
    "    \n",
    "    model.add(Flatten())    \n",
    "    \n",
    "    model.add(Dense(500, activation='relu'))\n",
    "    model.add(Dropout(0.1))\n",
    "    \n",
    "    model.add(Dense(300, activation='relu'))\n",
    "    model.add(Dropout(0.1))\n",
    "    \n",
    "    model.add(Dense(num_classes, activation='softmax'))\n",
    "    \n",
    "\n",
    "    return model "
   ]
  },
  {
   "cell_type": "code",
   "execution_count": 31,
   "metadata": {
    "collapsed": true
   },
   "outputs": [],
   "source": [
    "model = neural_network_cov2D()"
   ]
  },
  {
   "cell_type": "code",
   "execution_count": 32,
   "metadata": {},
   "outputs": [
    {
     "data": {
      "text/plain": [
       "(50000, 3, 32, 32)"
      ]
     },
     "execution_count": 32,
     "metadata": {},
     "output_type": "execute_result"
    }
   ],
   "source": [
    "X_train.shape"
   ]
  },
  {
   "cell_type": "code",
   "execution_count": 33,
   "metadata": {},
   "outputs": [
    {
     "name": "stdout",
     "output_type": "stream",
     "text": [
      "_________________________________________________________________\n",
      "Layer (type)                 Output Shape              Param #   \n",
      "=================================================================\n",
      "conv2d_13 (Conv2D)           (None, 32, 30, 30)        896       \n",
      "_________________________________________________________________\n",
      "max_pooling2d_13 (MaxPooling (None, 32, 15, 15)        0         \n",
      "_________________________________________________________________\n",
      "dropout_7 (Dropout)          (None, 32, 15, 15)        0         \n",
      "_________________________________________________________________\n",
      "conv2d_14 (Conv2D)           (None, 64, 14, 14)        8256      \n",
      "_________________________________________________________________\n",
      "max_pooling2d_14 (MaxPooling (None, 64, 7, 7)          0         \n",
      "_________________________________________________________________\n",
      "dropout_8 (Dropout)          (None, 64, 7, 7)          0         \n",
      "_________________________________________________________________\n",
      "conv2d_15 (Conv2D)           (None, 128, 6, 6)         32896     \n",
      "_________________________________________________________________\n",
      "max_pooling2d_15 (MaxPooling (None, 128, 3, 3)         0         \n",
      "_________________________________________________________________\n",
      "dropout_9 (Dropout)          (None, 128, 3, 3)         0         \n",
      "_________________________________________________________________\n",
      "flatten_3 (Flatten)          (None, 1152)              0         \n",
      "_________________________________________________________________\n",
      "dense_7 (Dense)              (None, 500)               576500    \n",
      "_________________________________________________________________\n",
      "dropout_10 (Dropout)         (None, 500)               0         \n",
      "_________________________________________________________________\n",
      "dense_8 (Dense)              (None, 300)               150300    \n",
      "_________________________________________________________________\n",
      "dropout_11 (Dropout)         (None, 300)               0         \n",
      "_________________________________________________________________\n",
      "dense_9 (Dense)              (None, 10)                3010      \n",
      "=================================================================\n",
      "Total params: 771,858\n",
      "Trainable params: 771,858\n",
      "Non-trainable params: 0\n",
      "_________________________________________________________________\n",
      "None\n",
      "Train on 50000 samples, validate on 10000 samples\n",
      "Epoch 1/30\n",
      "50000/50000 [==============================] - 140s - loss: 1.7069 - acc: 0.3713 - val_loss: 1.3104 - val_acc: 0.5243\n",
      "Epoch 2/30\n",
      "50000/50000 [==============================] - 139s - loss: 1.2792 - acc: 0.5418 - val_loss: 1.1368 - val_acc: 0.5940\n",
      "Epoch 3/30\n",
      "50000/50000 [==============================] - 138s - loss: 1.1035 - acc: 0.6054 - val_loss: 0.9980 - val_acc: 0.6497\n",
      "Epoch 4/30\n",
      "50000/50000 [==============================] - 139s - loss: 0.9862 - acc: 0.6492 - val_loss: 0.9063 - val_acc: 0.6861\n",
      "Epoch 5/30\n",
      "50000/50000 [==============================] - 138s - loss: 0.9074 - acc: 0.6784 - val_loss: 0.8586 - val_acc: 0.6998\n",
      "Epoch 6/30\n",
      "50000/50000 [==============================] - 142s - loss: 0.8407 - acc: 0.7029 - val_loss: 0.8251 - val_acc: 0.7107\n",
      "Epoch 7/30\n",
      "50000/50000 [==============================] - 168s - loss: 0.7989 - acc: 0.7161 - val_loss: 0.8226 - val_acc: 0.7094\n",
      "Epoch 8/30\n",
      "50000/50000 [==============================] - 206s - loss: 0.7483 - acc: 0.7356 - val_loss: 0.7868 - val_acc: 0.7204\n",
      "Epoch 9/30\n",
      "50000/50000 [==============================] - 147s - loss: 0.7118 - acc: 0.7488 - val_loss: 0.7567 - val_acc: 0.7374\n",
      "Epoch 10/30\n",
      "50000/50000 [==============================] - 152s - loss: 0.6785 - acc: 0.7580 - val_loss: 0.7406 - val_acc: 0.7399\n",
      "Epoch 11/30\n",
      "50000/50000 [==============================] - 140s - loss: 0.6509 - acc: 0.7701 - val_loss: 0.7407 - val_acc: 0.7408\n",
      "Epoch 12/30\n",
      "50000/50000 [==============================] - 143s - loss: 0.6215 - acc: 0.7810 - val_loss: 0.7402 - val_acc: 0.7445\n",
      "Epoch 13/30\n",
      "50000/50000 [==============================] - 138s - loss: 0.5978 - acc: 0.7896 - val_loss: 0.7365 - val_acc: 0.7458\n",
      "Epoch 14/30\n",
      "50000/50000 [==============================] - 137s - loss: 0.5778 - acc: 0.7931 - val_loss: 0.7041 - val_acc: 0.7549\n",
      "Epoch 15/30\n",
      "50000/50000 [==============================] - 143s - loss: 0.5581 - acc: 0.8032 - val_loss: 0.7069 - val_acc: 0.7581\n",
      "Epoch 16/30\n",
      "50000/50000 [==============================] - 143s - loss: 0.5373 - acc: 0.8102 - val_loss: 0.6900 - val_acc: 0.7658\n",
      "Epoch 17/30\n",
      "50000/50000 [==============================] - 194s - loss: 0.5264 - acc: 0.8143 - val_loss: 0.7049 - val_acc: 0.7600\n",
      "Epoch 18/30\n",
      "50000/50000 [==============================] - 222s - loss: 0.5049 - acc: 0.8220 - val_loss: 0.7044 - val_acc: 0.7612\n",
      "Epoch 19/30\n",
      "50000/50000 [==============================] - 209s - loss: 0.4901 - acc: 0.8237 - val_loss: 0.7170 - val_acc: 0.7593\n",
      "Epoch 20/30\n",
      "50000/50000 [==============================] - 217s - loss: 0.4818 - acc: 0.8277 - val_loss: 0.6998 - val_acc: 0.7630\n",
      "Epoch 21/30\n",
      "50000/50000 [==============================] - 226s - loss: 0.4693 - acc: 0.8340 - val_loss: 0.7000 - val_acc: 0.7632\n",
      "Epoch 22/30\n",
      "50000/50000 [==============================] - 218s - loss: 0.4493 - acc: 0.8415 - val_loss: 0.6969 - val_acc: 0.7685\n",
      "Epoch 23/30\n",
      "50000/50000 [==============================] - 209s - loss: 0.4399 - acc: 0.8439 - val_loss: 0.6969 - val_acc: 0.7658\n",
      "Epoch 24/30\n",
      "50000/50000 [==============================] - 209s - loss: 0.4278 - acc: 0.8487 - val_loss: 0.7008 - val_acc: 0.7690\n",
      "Epoch 25/30\n",
      "50000/50000 [==============================] - 209s - loss: 0.4200 - acc: 0.8507 - val_loss: 0.6926 - val_acc: 0.7736\n",
      "Epoch 26/30\n",
      "50000/50000 [==============================] - 208s - loss: 0.4054 - acc: 0.8558 - val_loss: 0.6972 - val_acc: 0.7695\n",
      "Epoch 27/30\n",
      "50000/50000 [==============================] - 209s - loss: 0.3953 - acc: 0.8595 - val_loss: 0.7037 - val_acc: 0.7697\n",
      "Epoch 28/30\n",
      "50000/50000 [==============================] - 208s - loss: 0.3929 - acc: 0.8596 - val_loss: 0.7041 - val_acc: 0.7720\n",
      "Epoch 29/30\n",
      "50000/50000 [==============================] - 173s - loss: 0.3802 - acc: 0.8645 - val_loss: 0.6974 - val_acc: 0.7730\n",
      "Epoch 30/30\n",
      "50000/50000 [==============================] - 138s - loss: 0.3680 - acc: 0.8706 - val_loss: 0.7082 - val_acc: 0.7745\n"
     ]
    },
    {
     "ename": "NameError",
     "evalue": "name 'plt' is not defined",
     "output_type": "error",
     "traceback": [
      "\u001b[0;31m---------------------------------------------------------------------------\u001b[0m",
      "\u001b[0;31mNameError\u001b[0m                                 Traceback (most recent call last)",
      "\u001b[0;32m<ipython-input-33-a8043882aea6>\u001b[0m in \u001b[0;36m<module>\u001b[0;34m()\u001b[0m\n\u001b[1;32m      8\u001b[0m \u001b[0;34m\u001b[0m\u001b[0m\n\u001b[1;32m      9\u001b[0m \u001b[0;31m#display loss\u001b[0m\u001b[0;34m\u001b[0m\u001b[0;34m\u001b[0m\u001b[0m\n\u001b[0;32m---> 10\u001b[0;31m \u001b[0mf\u001b[0m\u001b[0;34m=\u001b[0m\u001b[0mplt\u001b[0m\u001b[0;34m.\u001b[0m\u001b[0mfigure\u001b[0m\u001b[0;34m(\u001b[0m\u001b[0;34m)\u001b[0m\u001b[0;34m\u001b[0m\u001b[0m\n\u001b[0m\u001b[1;32m     11\u001b[0m \u001b[0mplt\u001b[0m\u001b[0;34m.\u001b[0m\u001b[0mplot\u001b[0m\u001b[0;34m(\u001b[0m\u001b[0mhist\u001b[0m\u001b[0;34m.\u001b[0m\u001b[0mhistory\u001b[0m\u001b[0;34m[\u001b[0m\u001b[0;34m'loss'\u001b[0m\u001b[0;34m]\u001b[0m\u001b[0;34m,\u001b[0m \u001b[0mlinewidth\u001b[0m\u001b[0;34m=\u001b[0m\u001b[0;36m3\u001b[0m\u001b[0;34m,\u001b[0m \u001b[0mlabel\u001b[0m\u001b[0;34m=\u001b[0m\u001b[0;34m'train'\u001b[0m\u001b[0;34m)\u001b[0m\u001b[0;34m\u001b[0m\u001b[0m\n\u001b[1;32m     12\u001b[0m \u001b[0mplt\u001b[0m\u001b[0;34m.\u001b[0m\u001b[0mplot\u001b[0m\u001b[0;34m(\u001b[0m\u001b[0mhist\u001b[0m\u001b[0;34m.\u001b[0m\u001b[0mhistory\u001b[0m\u001b[0;34m[\u001b[0m\u001b[0;34m'val_loss'\u001b[0m\u001b[0;34m]\u001b[0m\u001b[0;34m,\u001b[0m \u001b[0mlinewidth\u001b[0m\u001b[0;34m=\u001b[0m\u001b[0;36m3\u001b[0m\u001b[0;34m,\u001b[0m \u001b[0mlabel\u001b[0m\u001b[0;34m=\u001b[0m\u001b[0;34m'valid'\u001b[0m\u001b[0;34m)\u001b[0m\u001b[0;34m\u001b[0m\u001b[0m\n",
      "\u001b[0;31mNameError\u001b[0m: name 'plt' is not defined"
     ]
    }
   ],
   "source": [
    "num_epochs = 30\n",
    "learning_rate = 0.01\n",
    "decay_rate = learning_rate / epochs\n",
    "sgd = SGD(lr=learning_rate, momentum=0.9, decay = decay_rate , nesterov=True)\n",
    "model.compile(loss='categorical_crossentropy', optimizer=sgd, metrics=['accuracy'])\n",
    "print model.summary()\n",
    "hist = model.fit(X_train, y_train, validation_data=(X_test, y_test) , nb_epoch=num_epochs)\n",
    "\n"
   ]
  },
  {
   "cell_type": "code",
   "execution_count": 34,
   "metadata": {},
   "outputs": [
    {
     "data": {
      "image/png": "[encoded data removed]",
      "text/plain": [
       "<matplotlib.figure.Figure at 0x7fe53b474cd0>"
      ]
     },
     "metadata": {},
     "output_type": "display_data"
    }
   ],
   "source": [
    "import matplotlib.pyplot as plt\n",
    "#display loss \n",
    "f=plt.figure()\n",
    "plt.plot(hist.history['loss'], linewidth=3, label='train')\n",
    "plt.plot(hist.history['val_loss'], linewidth=3, label='valid')\n",
    "plt.grid()\n",
    "plt.legend()\n",
    "plt.xlabel('epoch')\n",
    "plt.ylabel('loss')\n",
    "plt.yscale('log')\n",
    "plt.show()"
   ]
  },
  {
   "cell_type": "code",
   "execution_count": null,
   "metadata": {
    "collapsed": true
   },
   "outputs": [],
   "source": []
  },
  {
   "cell_type": "markdown",
   "metadata": {},
   "source": [
    "### Convolutional Neural Network with Dropouts"
   ]
  },
  {
   "cell_type": "markdown",
   "metadata": {
    "collapsed": true
   },
   "source": [
    "Adding Dropouts to prevent overfitting"
   ]
  },
  {
   "cell_type": "code",
   "execution_count": 35,
   "metadata": {
    "collapsed": true
   },
   "outputs": [],
   "source": [
    "# load data\n",
    "(X_train, y_train), (X_test, y_test) = cifar10.load_data()\n",
    "\n",
    "\n",
    "# normalize inputs from 0-255 to 0.0-1.0\n",
    "X_train = X_train.astype('float32')\n",
    "X_test = X_test.astype('float32')\n",
    "X_train = X_train / 255.0\n",
    "X_test = X_test / 255.0\n",
    "\n",
    "from keras.utils import np_utils\n",
    "# one hot encode outputs\n",
    "y_train = np_utils.to_categorical(y_train)\n",
    "y_test = np_utils.to_categorical(y_test)\n",
    "num_classes = y_test.shape[1]\n",
    "\n",
    "X_train = X_train.reshape(X_train.shape[0], 3, 32, 32)\n",
    "X_test = X_test.reshape(X_test.shape[0], 3, 32, 32)"
   ]
  },
  {
   "cell_type": "code",
   "execution_count": 43,
   "metadata": {
    "collapsed": true
   },
   "outputs": [],
   "source": [
    "def neural_network_cov2D_dropout1():\n",
    "    \n",
    "    batch_size =100\n",
    "    # create model\n",
    "    model = Sequential()\n",
    "    model.add(Conv2D(32, (3, 3), input_shape=(3, 32, 32), activation='relu'))\n",
    "    model.add(MaxPooling2D(pool_size=(2, 2)))\n",
    "    model.add(Dropout(0.15))\n",
    "    \n",
    "    model.add(Conv2D(64, (2, 2), activation='relu'))\n",
    "    model.add(MaxPooling2D(pool_size=(2, 2)))\n",
    "    model.add(Dropout(0.15))\n",
    "    \n",
    "    model.add(Conv2D(128, (2, 2), activation='relu'))\n",
    "    model.add(MaxPooling2D(pool_size=(2, 2)))\n",
    "    \n",
    "    model.add(Dropout(0.15))\n",
    "    \n",
    "    model.add(Flatten())    \n",
    "    \n",
    "    model.add(Dense(500, activation='relu'))\n",
    "    model.add(Dropout(0.15))\n",
    "    \n",
    "    model.add(Dense(300, activation='relu'))\n",
    "    model.add(Dropout(0.15))\n",
    "    \n",
    "    model.add(Dense(num_classes, activation='softmax'))\n",
    "    \n",
    "\n",
    "    return model "
   ]
  },
  {
   "cell_type": "code",
   "execution_count": 44,
   "metadata": {
    "collapsed": true
   },
   "outputs": [],
   "source": [
    "model = neural_network_cov2D_dropout1()"
   ]
  },
  {
   "cell_type": "code",
   "execution_count": 45,
   "metadata": {},
   "outputs": [
    {
     "name": "stdout",
     "output_type": "stream",
     "text": [
      "_________________________________________________________________\n",
      "Layer (type)                 Output Shape              Param #   \n",
      "=================================================================\n",
      "conv2d_24 (Conv2D)           (None, 32, 30, 30)        896       \n",
      "_________________________________________________________________\n",
      "max_pooling2d_21 (MaxPooling (None, 32, 15, 15)        0         \n",
      "_________________________________________________________________\n",
      "dropout_17 (Dropout)         (None, 32, 15, 15)        0         \n",
      "_________________________________________________________________\n",
      "conv2d_25 (Conv2D)           (None, 64, 14, 14)        8256      \n",
      "_________________________________________________________________\n",
      "max_pooling2d_22 (MaxPooling (None, 64, 7, 7)          0         \n",
      "_________________________________________________________________\n",
      "dropout_18 (Dropout)         (None, 64, 7, 7)          0         \n",
      "_________________________________________________________________\n",
      "conv2d_26 (Conv2D)           (None, 128, 6, 6)         32896     \n",
      "_________________________________________________________________\n",
      "max_pooling2d_23 (MaxPooling (None, 128, 3, 3)         0         \n",
      "_________________________________________________________________\n",
      "dropout_19 (Dropout)         (None, 128, 3, 3)         0         \n",
      "_________________________________________________________________\n",
      "flatten_4 (Flatten)          (None, 1152)              0         \n",
      "_________________________________________________________________\n",
      "dense_10 (Dense)             (None, 500)               576500    \n",
      "_________________________________________________________________\n",
      "dropout_20 (Dropout)         (None, 500)               0         \n",
      "_________________________________________________________________\n",
      "dense_11 (Dense)             (None, 300)               150300    \n",
      "_________________________________________________________________\n",
      "dropout_21 (Dropout)         (None, 300)               0         \n",
      "_________________________________________________________________\n",
      "dense_12 (Dense)             (None, 10)                3010      \n",
      "=================================================================\n",
      "Total params: 771,858\n",
      "Trainable params: 771,858\n",
      "Non-trainable params: 0\n",
      "_________________________________________________________________\n",
      "None\n",
      "Train on 50000 samples, validate on 10000 samples\n",
      "Epoch 1/30\n",
      "50000/50000 [==============================] - 214s - loss: 1.7215 - acc: 0.3655 - val_loss: 1.3848 - val_acc: 0.5082\n",
      "Epoch 2/30\n",
      "50000/50000 [==============================] - 213s - loss: 1.3294 - acc: 0.5238 - val_loss: 1.1891 - val_acc: 0.5831\n",
      "Epoch 3/30\n",
      "50000/50000 [==============================] - 213s - loss: 1.1767 - acc: 0.5822 - val_loss: 1.0408 - val_acc: 0.6304\n",
      "Epoch 4/30\n",
      "50000/50000 [==============================] - 213s - loss: 1.0771 - acc: 0.6187 - val_loss: 0.9715 - val_acc: 0.6545\n",
      "Epoch 5/30\n",
      "50000/50000 [==============================] - 213s - loss: 1.0071 - acc: 0.6422 - val_loss: 0.9319 - val_acc: 0.6684\n",
      "Epoch 6/30\n",
      "50000/50000 [==============================] - 213s - loss: 0.9520 - acc: 0.6639 - val_loss: 0.8915 - val_acc: 0.6888\n",
      "Epoch 7/30\n",
      "50000/50000 [==============================] - 213s - loss: 0.9062 - acc: 0.6789 - val_loss: 0.8719 - val_acc: 0.6953\n",
      "Epoch 8/30\n",
      "50000/50000 [==============================] - 213s - loss: 0.8714 - acc: 0.6923 - val_loss: 0.8541 - val_acc: 0.7034\n",
      "Epoch 9/30\n",
      "50000/50000 [==============================] - 214s - loss: 0.8369 - acc: 0.7028 - val_loss: 0.8793 - val_acc: 0.6958\n",
      "Epoch 10/30\n",
      "50000/50000 [==============================] - 213s - loss: 0.8064 - acc: 0.7158 - val_loss: 0.8049 - val_acc: 0.7153\n",
      "Epoch 11/30\n",
      "50000/50000 [==============================] - 212s - loss: 0.7819 - acc: 0.7242 - val_loss: 0.7947 - val_acc: 0.7229\n",
      "Epoch 12/30\n",
      "50000/50000 [==============================] - 213s - loss: 0.7611 - acc: 0.7303 - val_loss: 0.7744 - val_acc: 0.7279\n",
      "Epoch 13/30\n",
      "50000/50000 [==============================] - 215s - loss: 0.7361 - acc: 0.7397 - val_loss: 0.7796 - val_acc: 0.7302\n",
      "Epoch 14/30\n",
      "50000/50000 [==============================] - 213s - loss: 0.7226 - acc: 0.7456 - val_loss: 0.7634 - val_acc: 0.7334\n",
      "Epoch 15/30\n",
      "50000/50000 [==============================] - 213s - loss: 0.7051 - acc: 0.7511 - val_loss: 0.7497 - val_acc: 0.7391\n",
      "Epoch 16/30\n",
      "50000/50000 [==============================] - 213s - loss: 0.6839 - acc: 0.7577 - val_loss: 0.7412 - val_acc: 0.7449\n",
      "Epoch 17/30\n",
      "50000/50000 [==============================] - 214s - loss: 0.6711 - acc: 0.7624 - val_loss: 0.7444 - val_acc: 0.7434\n",
      "Epoch 18/30\n",
      "50000/50000 [==============================] - 213s - loss: 0.6584 - acc: 0.7682 - val_loss: 0.7529 - val_acc: 0.7396\n",
      "Epoch 19/30\n",
      "50000/50000 [==============================] - 222s - loss: 0.6521 - acc: 0.7692 - val_loss: 0.7080 - val_acc: 0.7571\n",
      "Epoch 20/30\n",
      "50000/50000 [==============================] - 229s - loss: 0.6383 - acc: 0.7752 - val_loss: 0.7198 - val_acc: 0.7507\n",
      "Epoch 21/30\n",
      "50000/50000 [==============================] - 201s - loss: 0.6215 - acc: 0.7805 - val_loss: 0.7246 - val_acc: 0.7532\n",
      "Epoch 22/30\n",
      "50000/50000 [==============================] - 142s - loss: 0.6129 - acc: 0.7841 - val_loss: 0.7399 - val_acc: 0.7481\n",
      "Epoch 23/30\n",
      "50000/50000 [==============================] - 145s - loss: 0.6045 - acc: 0.7871 - val_loss: 0.6980 - val_acc: 0.7615\n",
      "Epoch 24/30\n",
      "50000/50000 [==============================] - 144s - loss: 0.5975 - acc: 0.7884 - val_loss: 0.7181 - val_acc: 0.7572\n",
      "Epoch 25/30\n",
      "50000/50000 [==============================] - 208s - loss: 0.5862 - acc: 0.7919 - val_loss: 0.7191 - val_acc: 0.7573\n",
      "Epoch 26/30\n",
      "50000/50000 [==============================] - 207s - loss: 0.5761 - acc: 0.7966 - val_loss: 0.7028 - val_acc: 0.7645\n",
      "Epoch 27/30\n",
      "50000/50000 [==============================] - 208s - loss: 0.5739 - acc: 0.7972 - val_loss: 0.7463 - val_acc: 0.7511\n",
      "Epoch 28/30\n",
      "50000/50000 [==============================] - 208s - loss: 0.5646 - acc: 0.7998 - val_loss: 0.6962 - val_acc: 0.7628\n",
      "Epoch 29/30\n",
      "50000/50000 [==============================] - 207s - loss: 0.5570 - acc: 0.8026 - val_loss: 0.6949 - val_acc: 0.7667\n",
      "Epoch 30/30\n",
      "50000/50000 [==============================] - 208s - loss: 0.5424 - acc: 0.8063 - val_loss: 0.6933 - val_acc: 0.7658\n"
     ]
    },
    {
     "data": {
      "image/png": "[encoded data removed]",
      "text/plain": [
       "<matplotlib.figure.Figure at 0x7fe531ac5990>"
      ]
     },
     "metadata": {},
     "output_type": "display_data"
    }
   ],
   "source": [
    "num_epochs = 30\n",
    "learning_rate = 0.01\n",
    "decay_rate = learning_rate / epochs\n",
    "sgd = SGD(lr=learning_rate, momentum=0.9, decay = decay_rate , nesterov=True)\n",
    "model.compile(loss='categorical_crossentropy', optimizer=sgd, metrics=['accuracy'])\n",
    "print model.summary()\n",
    "hist = model.fit(X_train, y_train, validation_data=(X_test, y_test) , nb_epoch=num_epochs)\n",
    "\n",
    "#display loss \n",
    "f=plt.figure()\n",
    "plt.plot(hist.history['loss'], linewidth=3, label='train')\n",
    "plt.plot(hist.history['val_loss'], linewidth=3, label='valid')\n",
    "plt.grid()\n",
    "plt.legend()\n",
    "plt.xlabel('epoch')\n",
    "plt.ylabel('loss')\n",
    "plt.yscale('log')\n",
    "plt.show()"
   ]
  },
  {
   "cell_type": "code",
   "execution_count": null,
   "metadata": {
    "collapsed": true
   },
   "outputs": [],
   "source": []
  },
  {
   "cell_type": "markdown",
   "metadata": {},
   "source": [
    "### Convolutional neural network with Deeper Layers and Dropouts"
   ]
  },
  {
   "cell_type": "code",
   "execution_count": 46,
   "metadata": {
    "collapsed": true
   },
   "outputs": [],
   "source": [
    "def neural_network_cov2D_dropout2():\n",
    "    \n",
    "    batch_size =100\n",
    "    # create model\n",
    "    model = Sequential()\n",
    "    model.add(Conv2D(32, (3, 3), input_shape=(3, 32, 32), activation='relu'))\n",
    "    model.add(MaxPooling2D(pool_size=(2, 2)))\n",
    "    model.add(Dropout(0.25))\n",
    "    \n",
    "    model.add(Conv2D(64, (2, 2), activation='relu'))\n",
    "    model.add(MaxPooling2D(pool_size=(2, 2)))\n",
    "    model.add(Dropout(0.25))\n",
    "    \n",
    "    model.add(Conv2D(128, (2, 2), activation='relu'))\n",
    "    model.add(MaxPooling2D(pool_size=(2, 2)))\n",
    "    \n",
    "    model.add(Dropout(0.25))\n",
    "    \n",
    "    model.add(Flatten())    \n",
    "    \n",
    "    model.add(Dense(500, activation='relu'))\n",
    "    model.add(Dropout(0.25))\n",
    "    \n",
    "    model.add(Dense(300, activation='relu'))\n",
    "    model.add(Dropout(0.25))\n",
    "    \n",
    "    model.add(Dense(num_classes, activation='softmax'))\n",
    "    \n",
    "\n",
    "    return model "
   ]
  },
  {
   "cell_type": "code",
   "execution_count": 47,
   "metadata": {
    "collapsed": true
   },
   "outputs": [],
   "source": [
    "model = neural_network_cov2D_dropout2()"
   ]
  },
  {
   "cell_type": "code",
   "execution_count": 48,
   "metadata": {},
   "outputs": [
    {
     "name": "stdout",
     "output_type": "stream",
     "text": [
      "_________________________________________________________________\n",
      "Layer (type)                 Output Shape              Param #   \n",
      "=================================================================\n",
      "conv2d_27 (Conv2D)           (None, 32, 30, 30)        896       \n",
      "_________________________________________________________________\n",
      "max_pooling2d_24 (MaxPooling (None, 32, 15, 15)        0         \n",
      "_________________________________________________________________\n",
      "dropout_22 (Dropout)         (None, 32, 15, 15)        0         \n",
      "_________________________________________________________________\n",
      "conv2d_28 (Conv2D)           (None, 64, 14, 14)        8256      \n",
      "_________________________________________________________________\n",
      "max_pooling2d_25 (MaxPooling (None, 64, 7, 7)          0         \n",
      "_________________________________________________________________\n",
      "dropout_23 (Dropout)         (None, 64, 7, 7)          0         \n",
      "_________________________________________________________________\n",
      "conv2d_29 (Conv2D)           (None, 128, 6, 6)         32896     \n",
      "_________________________________________________________________\n",
      "max_pooling2d_26 (MaxPooling (None, 128, 3, 3)         0         \n",
      "_________________________________________________________________\n",
      "dropout_24 (Dropout)         (None, 128, 3, 3)         0         \n",
      "_________________________________________________________________\n",
      "flatten_5 (Flatten)          (None, 1152)              0         \n",
      "_________________________________________________________________\n",
      "dense_13 (Dense)             (None, 500)               576500    \n",
      "_________________________________________________________________\n",
      "dropout_25 (Dropout)         (None, 500)               0         \n",
      "_________________________________________________________________\n",
      "dense_14 (Dense)             (None, 300)               150300    \n",
      "_________________________________________________________________\n",
      "dropout_26 (Dropout)         (None, 300)               0         \n",
      "_________________________________________________________________\n",
      "dense_15 (Dense)             (None, 10)                3010      \n",
      "=================================================================\n",
      "Total params: 771,858\n",
      "Trainable params: 771,858\n",
      "Non-trainable params: 0\n",
      "_________________________________________________________________\n",
      "None\n",
      "Train on 50000 samples, validate on 10000 samples\n",
      "Epoch 1/30\n",
      "50000/50000 [==============================] - 208s - loss: 1.8011 - acc: 0.3321 - val_loss: 1.4622 - val_acc: 0.4752\n",
      "Epoch 2/30\n",
      "50000/50000 [==============================] - 208s - loss: 1.4527 - acc: 0.4680 - val_loss: 1.2831 - val_acc: 0.5450\n",
      "Epoch 3/30\n",
      "50000/50000 [==============================] - 208s - loss: 1.3243 - acc: 0.5223 - val_loss: 1.2331 - val_acc: 0.5653\n",
      "Epoch 4/30\n",
      "50000/50000 [==============================] - 208s - loss: 1.2382 - acc: 0.5546 - val_loss: 1.1196 - val_acc: 0.6048\n",
      "Epoch 5/30\n",
      "50000/50000 [==============================] - 209s - loss: 1.1750 - acc: 0.5758 - val_loss: 1.1076 - val_acc: 0.6135\n",
      "Epoch 6/30\n",
      "50000/50000 [==============================] - 205s - loss: 1.1257 - acc: 0.5981 - val_loss: 1.0625 - val_acc: 0.6230\n",
      "Epoch 7/30\n",
      "50000/50000 [==============================] - 148s - loss: 1.0879 - acc: 0.6138 - val_loss: 1.0568 - val_acc: 0.6213\n",
      "Epoch 8/30\n",
      "50000/50000 [==============================] - 137s - loss: 1.0570 - acc: 0.6226 - val_loss: 0.9835 - val_acc: 0.6500\n",
      "Epoch 9/30\n",
      "50000/50000 [==============================] - 136s - loss: 1.0222 - acc: 0.6364 - val_loss: 0.9770 - val_acc: 0.6574\n",
      "Epoch 10/30\n",
      "50000/50000 [==============================] - 137s - loss: 1.0028 - acc: 0.6419 - val_loss: 0.9889 - val_acc: 0.6530\n",
      "Epoch 11/30\n",
      "50000/50000 [==============================] - 137s - loss: 0.9857 - acc: 0.6473 - val_loss: 0.9859 - val_acc: 0.6524\n",
      "Epoch 12/30\n",
      "50000/50000 [==============================] - 137s - loss: 0.9649 - acc: 0.6573 - val_loss: 1.0063 - val_acc: 0.6452\n",
      "Epoch 13/30\n",
      "50000/50000 [==============================] - 136s - loss: 0.9467 - acc: 0.6648 - val_loss: 0.9754 - val_acc: 0.6616\n",
      "Epoch 14/30\n",
      "50000/50000 [==============================] - 136s - loss: 0.9336 - acc: 0.6696 - val_loss: 1.0054 - val_acc: 0.6497\n",
      "Epoch 15/30\n",
      "50000/50000 [==============================] - 137s - loss: 0.9220 - acc: 0.6720 - val_loss: 0.9222 - val_acc: 0.6800\n",
      "Epoch 16/30\n",
      "50000/50000 [==============================] - 137s - loss: 0.9034 - acc: 0.6792 - val_loss: 0.9190 - val_acc: 0.6786\n",
      "Epoch 17/30\n",
      "50000/50000 [==============================] - 137s - loss: 0.8919 - acc: 0.6839 - val_loss: 0.9128 - val_acc: 0.6801\n",
      "Epoch 18/30\n",
      "50000/50000 [==============================] - 137s - loss: 0.8760 - acc: 0.6871 - val_loss: 0.9491 - val_acc: 0.6709\n",
      "Epoch 19/30\n",
      "50000/50000 [==============================] - 137s - loss: 0.8723 - acc: 0.6922 - val_loss: 0.9171 - val_acc: 0.6823\n",
      "Epoch 20/30\n",
      "50000/50000 [==============================] - 137s - loss: 0.8540 - acc: 0.6975 - val_loss: 0.9386 - val_acc: 0.6778\n",
      "Epoch 21/30\n",
      "50000/50000 [==============================] - 136s - loss: 0.8493 - acc: 0.7011 - val_loss: 0.9803 - val_acc: 0.6650\n",
      "Epoch 22/30\n",
      "50000/50000 [==============================] - 136s - loss: 0.8356 - acc: 0.7050 - val_loss: 0.8937 - val_acc: 0.6905\n",
      "Epoch 23/30\n",
      "50000/50000 [==============================] - 137s - loss: 0.8316 - acc: 0.7036 - val_loss: 0.8974 - val_acc: 0.6887\n",
      "Epoch 24/30\n",
      "50000/50000 [==============================] - 137s - loss: 0.8209 - acc: 0.7103 - val_loss: 0.8794 - val_acc: 0.6949\n",
      "Epoch 25/30\n",
      "50000/50000 [==============================] - 137s - loss: 0.8143 - acc: 0.7114 - val_loss: 0.8576 - val_acc: 0.7035\n",
      "Epoch 26/30\n",
      "50000/50000 [==============================] - 136s - loss: 0.8060 - acc: 0.7155 - val_loss: 0.8835 - val_acc: 0.6935\n",
      "Epoch 27/30\n",
      "50000/50000 [==============================] - 137s - loss: 0.7979 - acc: 0.7182 - val_loss: 0.8566 - val_acc: 0.7074\n",
      "Epoch 28/30\n",
      "50000/50000 [==============================] - 136s - loss: 0.7963 - acc: 0.7196 - val_loss: 0.8162 - val_acc: 0.7135\n",
      "Epoch 29/30\n",
      "50000/50000 [==============================] - 137s - loss: 0.7867 - acc: 0.7223 - val_loss: 0.8447 - val_acc: 0.7076\n",
      "Epoch 30/30\n",
      "50000/50000 [==============================] - 137s - loss: 0.7778 - acc: 0.7245 - val_loss: 0.8533 - val_acc: 0.7039\n"
     ]
    },
    {
     "data": {
      "image/png": "[encoded data removed]",
      "text/plain": [
       "<matplotlib.figure.Figure at 0x7fe52e73fe90>"
      ]
     },
     "metadata": {},
     "output_type": "display_data"
    }
   ],
   "source": [
    "num_epochs = 30\n",
    "learning_rate = 0.01\n",
    "decay_rate = learning_rate / epochs\n",
    "sgd = SGD(lr=learning_rate, momentum=0.9, decay = decay_rate , nesterov=True)\n",
    "model.compile(loss='categorical_crossentropy', optimizer=sgd, metrics=['accuracy'])\n",
    "print model.summary()\n",
    "hist = model.fit(X_train, y_train, validation_data=(X_test, y_test) , nb_epoch=num_epochs)\n",
    "\n",
    "#display loss \n",
    "f=plt.figure()\n",
    "plt.plot(hist.history['loss'], linewidth=3, label='train')\n",
    "plt.plot(hist.history['val_loss'], linewidth=3, label='valid')\n",
    "plt.grid()\n",
    "plt.legend()\n",
    "plt.xlabel('epoch')\n",
    "plt.ylabel('loss')\n",
    "plt.yscale('log')\n",
    "plt.show()"
   ]
  },
  {
   "cell_type": "code",
   "execution_count": null,
   "metadata": {
    "collapsed": true
   },
   "outputs": [],
   "source": []
  },
  {
   "cell_type": "markdown",
   "metadata": {},
   "source": [
    "### Use Adam Optimizer"
   ]
  },
  {
   "cell_type": "code",
   "execution_count": 9,
   "metadata": {
    "collapsed": true
   },
   "outputs": [],
   "source": [
    "def neural_network_cov2D_dropout_adamOpt():\n",
    "    \n",
    "    batch_size =100\n",
    "    # create model\n",
    "    model = Sequential()\n",
    "    model.add(Conv2D(32, (3, 3), input_shape=(3, 32, 32), activation='relu'))\n",
    "    model.add(MaxPooling2D(pool_size=(2, 2)))\n",
    "    model.add(Dropout(0.15))\n",
    "    \n",
    "    model.add(Conv2D(64, (2, 2), activation='relu'))\n",
    "    model.add(MaxPooling2D(pool_size=(2, 2)))\n",
    "    model.add(Dropout(0.15))\n",
    "    \n",
    "    model.add(Conv2D(128, (2, 2), activation='relu'))\n",
    "    model.add(MaxPooling2D(pool_size=(2, 2)))\n",
    "    model.add(Conv2D(128, (2, 2), activation='relu'))\n",
    "    model.add(MaxPooling2D(pool_size=(2, 2)))\n",
    "    \n",
    "    model.add(Dropout(0.15))\n",
    "    \n",
    "    model.add(Flatten())    \n",
    "    \n",
    "    model.add(Dense(500, activation='relu'))\n",
    "    model.add(Dropout(0.15))\n",
    "    \n",
    "    model.add(Dense(200, activation='relu'))\n",
    "    model.add(Dropout(0.15))\n",
    "    \n",
    "    model.add(Dense(num_classes, activation='softmax'))\n",
    "    \n",
    "\n",
    "    return model "
   ]
  },
  {
   "cell_type": "code",
   "execution_count": 10,
   "metadata": {
    "collapsed": true
   },
   "outputs": [],
   "source": [
    "model = neural_network_cov2D_dropout_adamOpt()"
   ]
  },
  {
   "cell_type": "code",
   "execution_count": 11,
   "metadata": {},
   "outputs": [
    {
     "name": "stdout",
     "output_type": "stream",
     "text": [
      "_________________________________________________________________\n",
      "Layer (type)                 Output Shape              Param #   \n",
      "=================================================================\n",
      "conv2d_5 (Conv2D)            (None, 32, 30, 30)        896       \n",
      "_________________________________________________________________\n",
      "max_pooling2d_5 (MaxPooling2 (None, 32, 15, 15)        0         \n",
      "_________________________________________________________________\n",
      "dropout_6 (Dropout)          (None, 32, 15, 15)        0         \n",
      "_________________________________________________________________\n",
      "conv2d_6 (Conv2D)            (None, 64, 14, 14)        8256      \n",
      "_________________________________________________________________\n",
      "max_pooling2d_6 (MaxPooling2 (None, 64, 7, 7)          0         \n",
      "_________________________________________________________________\n",
      "dropout_7 (Dropout)          (None, 64, 7, 7)          0         \n",
      "_________________________________________________________________\n",
      "conv2d_7 (Conv2D)            (None, 128, 6, 6)         32896     \n",
      "_________________________________________________________________\n",
      "max_pooling2d_7 (MaxPooling2 (None, 128, 3, 3)         0         \n",
      "_________________________________________________________________\n",
      "conv2d_8 (Conv2D)            (None, 128, 2, 2)         65664     \n",
      "_________________________________________________________________\n",
      "max_pooling2d_8 (MaxPooling2 (None, 128, 1, 1)         0         \n",
      "_________________________________________________________________\n",
      "dropout_8 (Dropout)          (None, 128, 1, 1)         0         \n",
      "_________________________________________________________________\n",
      "flatten_2 (Flatten)          (None, 128)               0         \n",
      "_________________________________________________________________\n",
      "dense_4 (Dense)              (None, 500)               64500     \n",
      "_________________________________________________________________\n",
      "dropout_9 (Dropout)          (None, 500)               0         \n",
      "_________________________________________________________________\n",
      "dense_5 (Dense)              (None, 200)               100200    \n",
      "_________________________________________________________________\n",
      "dropout_10 (Dropout)         (None, 200)               0         \n",
      "_________________________________________________________________\n",
      "dense_6 (Dense)              (None, 10)                2010      \n",
      "=================================================================\n",
      "Total params: 274,422\n",
      "Trainable params: 274,422\n",
      "Non-trainable params: 0\n",
      "_________________________________________________________________\n",
      "None\n"
     ]
    },
    {
     "name": "stderr",
     "output_type": "stream",
     "text": [
      "/home/tmatsuzawa/anaconda2/lib/python2.7/site-packages/keras/models.py:844: UserWarning: The `nb_epoch` argument in `fit` has been renamed `epochs`.\n",
      "  warnings.warn('The `nb_epoch` argument in `fit` '\n"
     ]
    },
    {
     "name": "stdout",
     "output_type": "stream",
     "text": [
      "Train on 50000 samples, validate on 10000 samples\n",
      "Epoch 1/50\n",
      "50000/50000 [==============================] - 388s - loss: 1.7090 - acc: 0.3556 - val_loss: 1.3592 - val_acc: 0.5022\n",
      "Epoch 2/50\n",
      "50000/50000 [==============================] - 393s - loss: 1.3561 - acc: 0.5063 - val_loss: 1.2371 - val_acc: 0.5405\n",
      "Epoch 3/50\n",
      "50000/50000 [==============================] - 429s - loss: 1.1972 - acc: 0.5704 - val_loss: 1.1035 - val_acc: 0.6095\n",
      "Epoch 4/50\n",
      "50000/50000 [==============================] - 468s - loss: 1.1002 - acc: 0.6079 - val_loss: 1.0112 - val_acc: 0.6410\n",
      "Epoch 5/50\n",
      "50000/50000 [==============================] - 467s - loss: 1.0356 - acc: 0.6351 - val_loss: 0.9769 - val_acc: 0.6587\n",
      "Epoch 6/50\n",
      "50000/50000 [==============================] - 491s - loss: 0.9901 - acc: 0.6496 - val_loss: 0.9075 - val_acc: 0.6790\n",
      "Epoch 7/50\n",
      "50000/50000 [==============================] - 503s - loss: 0.9488 - acc: 0.6648 - val_loss: 0.8952 - val_acc: 0.6810\n",
      "Epoch 8/50\n",
      "50000/50000 [==============================] - 466s - loss: 0.9134 - acc: 0.6787 - val_loss: 0.8572 - val_acc: 0.7009\n",
      "Epoch 9/50\n",
      "50000/50000 [==============================] - 467s - loss: 0.8842 - acc: 0.6907 - val_loss: 0.8600 - val_acc: 0.6981\n",
      "Epoch 10/50\n",
      "50000/50000 [==============================] - 469s - loss: 0.8598 - acc: 0.6973 - val_loss: 0.8414 - val_acc: 0.7079\n",
      "Epoch 11/50\n",
      "50000/50000 [==============================] - 463s - loss: 0.8394 - acc: 0.7017 - val_loss: 1.0469 - val_acc: 0.6472\n",
      "Epoch 12/50\n",
      "50000/50000 [==============================] - 463s - loss: 0.8133 - acc: 0.7149 - val_loss: 0.8252 - val_acc: 0.7137\n",
      "Epoch 13/50\n",
      "50000/50000 [==============================] - 466s - loss: 0.8046 - acc: 0.7176 - val_loss: 0.8105 - val_acc: 0.7221\n",
      "Epoch 14/50\n",
      "50000/50000 [==============================] - 463s - loss: 0.7840 - acc: 0.7257 - val_loss: 0.8370 - val_acc: 0.7105\n",
      "Epoch 15/50\n",
      "50000/50000 [==============================] - 466s - loss: 0.7672 - acc: 0.7300 - val_loss: 0.7757 - val_acc: 0.7300\n",
      "Epoch 16/50\n",
      "50000/50000 [==============================] - 465s - loss: 0.7607 - acc: 0.7331 - val_loss: 0.7704 - val_acc: 0.7336\n",
      "Epoch 17/50\n",
      "50000/50000 [==============================] - 465s - loss: 0.7445 - acc: 0.7402 - val_loss: 0.8024 - val_acc: 0.7208\n",
      "Epoch 18/50\n",
      "50000/50000 [==============================] - 473s - loss: 0.7381 - acc: 0.7421 - val_loss: 0.7759 - val_acc: 0.7322\n",
      "Epoch 19/50\n",
      "50000/50000 [==============================] - 462s - loss: 0.7198 - acc: 0.7460 - val_loss: 0.8435 - val_acc: 0.7122\n",
      "Epoch 20/50\n",
      "50000/50000 [==============================] - 462s - loss: 0.7110 - acc: 0.7496 - val_loss: 0.7402 - val_acc: 0.7455\n",
      "Epoch 21/50\n",
      "50000/50000 [==============================] - 463s - loss: 0.7024 - acc: 0.7528 - val_loss: 0.7797 - val_acc: 0.7355\n",
      "Epoch 22/50\n",
      "50000/50000 [==============================] - 465s - loss: 0.6925 - acc: 0.7578 - val_loss: 0.7475 - val_acc: 0.7387\n",
      "Epoch 23/50\n",
      "50000/50000 [==============================] - 465s - loss: 0.6756 - acc: 0.7626 - val_loss: 0.7461 - val_acc: 0.7456\n",
      "Epoch 24/50\n",
      "50000/50000 [==============================] - 462s - loss: 0.6686 - acc: 0.7649 - val_loss: 0.7423 - val_acc: 0.7458\n",
      "Epoch 25/50\n",
      "50000/50000 [==============================] - 422s - loss: 0.6545 - acc: 0.7691 - val_loss: 0.7756 - val_acc: 0.7380\n"
     ]
    },
    {
     "data": {
      "image/png": "[encoded data removed]",
      "text/plain": [
       "<matplotlib.figure.Figure at 0x7f4399b05250>"
      ]
     },
     "metadata": {},
     "output_type": "display_data"
    }
   ],
   "source": [
    "num_epochs = 50\n",
    "model.compile(loss='categorical_crossentropy', optimizer=Adam(lr = 0.001, decay = 1e-5), metrics=['accuracy'])\n",
    "print model.summary()\n",
    "hist = model.fit(X_train, y_train, validation_data=(X_test, y_test) , nb_epoch=num_epochs, \n",
    "                 callbacks = [EarlyStopping(min_delta = 0.001, patience = 4)])\n",
    "\n",
    "#display loss \n",
    "f=plt.figure()\n",
    "plt.plot(hist.history['loss'], linewidth=3, label='train')\n",
    "plt.plot(hist.history['val_loss'], linewidth=3, label='valid')\n",
    "plt.grid()\n",
    "plt.legend()\n",
    "plt.xlabel('epoch')\n",
    "plt.ylabel('loss')\n",
    "plt.yscale('log')\n",
    "plt.show()"
   ]
  },
  {
   "cell_type": "code",
   "execution_count": 24,
   "metadata": {
    "collapsed": true
   },
   "outputs": [],
   "source": [
    "def neural_network_cov2D_dropout_adamOpt1():\n",
    "    \n",
    "    batch_size =100\n",
    "    # create model\n",
    "    model = Sequential()\n",
    "    model.add(Conv2D(32, (3, 3), input_shape=(3, 32, 32), activation='relu'))\n",
    "    model.add(MaxPooling2D(pool_size=(2, 2)))\n",
    "    model.add(Dropout(0.15))\n",
    "    \n",
    "    model.add(Conv2D(64, (2, 2), activation='relu'))\n",
    "    model.add(MaxPooling2D(pool_size=(2, 2)))\n",
    "    model.add(Dropout(0.15))\n",
    "    \n",
    "    model.add(Conv2D(128, (2, 2), activation='relu'))\n",
    "    model.add(MaxPooling2D(pool_size=(2, 2)))\n",
    "    \n",
    "    model.add(Conv2D(256, (2, 2), activation='relu'))\n",
    "    model.add(MaxPooling2D(pool_size=(2, 2)))\n",
    "    \n",
    "    \n",
    "    \n",
    "    model.add(Dropout(0.15))\n",
    "    \n",
    "    model.add(Flatten())    \n",
    "    \n",
    "    model.add(Dense(400, activation='relu'))\n",
    "    model.add(Dropout(0.15))\n",
    "    \n",
    "    model.add(Dense(200, activation='relu'))\n",
    "    model.add(Dropout(0.15))\n",
    "    \n",
    "    model.add(Dense(100, activation='relu'))\n",
    "    model.add(Dropout(0.15))\n",
    "    \n",
    "    model.add(Dense(num_classes, activation='softmax'))\n",
    "    \n",
    "\n",
    "    return model "
   ]
  },
  {
   "cell_type": "code",
   "execution_count": 25,
   "metadata": {},
   "outputs": [],
   "source": [
    "model = neural_network_cov2D_dropout_adamOpt1()"
   ]
  },
  {
   "cell_type": "code",
   "execution_count": 26,
   "metadata": {},
   "outputs": [
    {
     "name": "stdout",
     "output_type": "stream",
     "text": [
      "_________________________________________________________________\n",
      "Layer (type)                 Output Shape              Param #   \n",
      "=================================================================\n",
      "conv2d_37 (Conv2D)           (None, 32, 30, 30)        896       \n",
      "_________________________________________________________________\n",
      "max_pooling2d_33 (MaxPooling (None, 32, 15, 15)        0         \n",
      "_________________________________________________________________\n",
      "dropout_31 (Dropout)         (None, 32, 15, 15)        0         \n",
      "_________________________________________________________________\n",
      "conv2d_38 (Conv2D)           (None, 64, 14, 14)        8256      \n",
      "_________________________________________________________________\n",
      "max_pooling2d_34 (MaxPooling (None, 64, 7, 7)          0         \n",
      "_________________________________________________________________\n",
      "dropout_32 (Dropout)         (None, 64, 7, 7)          0         \n",
      "_________________________________________________________________\n",
      "conv2d_39 (Conv2D)           (None, 128, 6, 6)         32896     \n",
      "_________________________________________________________________\n",
      "max_pooling2d_35 (MaxPooling (None, 128, 3, 3)         0         \n",
      "_________________________________________________________________\n",
      "conv2d_40 (Conv2D)           (None, 256, 2, 2)         131328    \n",
      "_________________________________________________________________\n",
      "max_pooling2d_36 (MaxPooling (None, 256, 1, 1)         0         \n",
      "_________________________________________________________________\n",
      "dropout_33 (Dropout)         (None, 256, 1, 1)         0         \n",
      "_________________________________________________________________\n",
      "flatten_5 (Flatten)          (None, 256)               0         \n",
      "_________________________________________________________________\n",
      "dense_15 (Dense)             (None, 400)               102800    \n",
      "_________________________________________________________________\n",
      "dropout_34 (Dropout)         (None, 400)               0         \n",
      "_________________________________________________________________\n",
      "dense_16 (Dense)             (None, 200)               80200     \n",
      "_________________________________________________________________\n",
      "dropout_35 (Dropout)         (None, 200)               0         \n",
      "_________________________________________________________________\n",
      "dense_17 (Dense)             (None, 100)               20100     \n",
      "_________________________________________________________________\n",
      "dropout_36 (Dropout)         (None, 100)               0         \n",
      "_________________________________________________________________\n",
      "dense_18 (Dense)             (None, 10)                1010      \n",
      "=================================================================\n",
      "Total params: 377,486\n",
      "Trainable params: 377,486\n",
      "Non-trainable params: 0\n",
      "_________________________________________________________________\n",
      "None\n",
      "Train on 50000 samples, validate on 10000 samples\n",
      "Epoch 1/50\n",
      "50000/50000 [==============================] - 446s - loss: 1.7561 - acc: 0.3288 - val_loss: 1.4939 - val_acc: 0.4577\n",
      "Epoch 2/50\n",
      "50000/50000 [==============================] - 393s - loss: 1.3852 - acc: 0.4959 - val_loss: 1.2530 - val_acc: 0.5367\n",
      "Epoch 3/50\n",
      "50000/50000 [==============================] - 397s - loss: 1.2300 - acc: 0.5593 - val_loss: 1.1008 - val_acc: 0.6105\n",
      "Epoch 4/50\n",
      "50000/50000 [==============================] - 401s - loss: 1.1229 - acc: 0.6015 - val_loss: 1.0934 - val_acc: 0.6166\n",
      "Epoch 5/50\n",
      "50000/50000 [==============================] - 411s - loss: 1.0495 - acc: 0.6294 - val_loss: 0.9776 - val_acc: 0.6577\n",
      "Epoch 6/50\n",
      "50000/50000 [==============================] - 459s - loss: 0.9908 - acc: 0.6523 - val_loss: 0.9149 - val_acc: 0.6796\n",
      "Epoch 7/50\n",
      "50000/50000 [==============================] - 458s - loss: 0.9380 - acc: 0.6725 - val_loss: 0.9014 - val_acc: 0.6834\n",
      "Epoch 8/50\n",
      "50000/50000 [==============================] - 464s - loss: 0.8998 - acc: 0.6857 - val_loss: 0.8806 - val_acc: 0.6962\n",
      "Epoch 9/50\n",
      "50000/50000 [==============================] - 458s - loss: 0.8632 - acc: 0.7003 - val_loss: 0.9041 - val_acc: 0.6931\n",
      "Epoch 10/50\n",
      "50000/50000 [==============================] - 460s - loss: 0.8382 - acc: 0.7085 - val_loss: 0.8589 - val_acc: 0.7020\n",
      "Epoch 11/50\n",
      "50000/50000 [==============================] - 460s - loss: 0.8071 - acc: 0.7197 - val_loss: 0.7991 - val_acc: 0.7265\n",
      "Epoch 12/50\n",
      "50000/50000 [==============================] - 460s - loss: 0.7840 - acc: 0.7278 - val_loss: 0.7783 - val_acc: 0.7270\n",
      "Epoch 13/50\n",
      "50000/50000 [==============================] - 461s - loss: 0.7748 - acc: 0.7304 - val_loss: 0.8032 - val_acc: 0.7302\n",
      "Epoch 14/50\n",
      "50000/50000 [==============================] - 449s - loss: 0.7546 - acc: 0.7405 - val_loss: 0.7930 - val_acc: 0.7292\n",
      "Epoch 15/50\n",
      "50000/50000 [==============================] - 550s - loss: 0.7296 - acc: 0.7459 - val_loss: 0.7668 - val_acc: 0.7346\n",
      "Epoch 16/50\n",
      "50000/50000 [==============================] - 477s - loss: 0.7178 - acc: 0.7529 - val_loss: 0.7551 - val_acc: 0.7420\n",
      "Epoch 17/50\n",
      "50000/50000 [==============================] - 459s - loss: 0.7007 - acc: 0.7576 - val_loss: 0.7623 - val_acc: 0.7431\n",
      "Epoch 18/50\n",
      "50000/50000 [==============================] - 459s - loss: 0.6868 - acc: 0.7632 - val_loss: 0.7858 - val_acc: 0.7303\n",
      "Epoch 19/50\n",
      "50000/50000 [==============================] - 461s - loss: 0.6833 - acc: 0.7631 - val_loss: 0.7595 - val_acc: 0.7436\n",
      "Epoch 20/50\n",
      "50000/50000 [==============================] - 457s - loss: 0.6613 - acc: 0.7720 - val_loss: 0.7802 - val_acc: 0.7421\n",
      "Epoch 21/50\n",
      "50000/50000 [==============================] - 461s - loss: 0.6511 - acc: 0.7762 - val_loss: 0.7405 - val_acc: 0.7527\n",
      "Epoch 22/50\n",
      "50000/50000 [==============================] - 462s - loss: 0.6415 - acc: 0.7779 - val_loss: 0.7561 - val_acc: 0.7422\n",
      "Epoch 23/50\n",
      "50000/50000 [==============================] - 476s - loss: 0.6339 - acc: 0.7807 - val_loss: 0.8261 - val_acc: 0.7251\n",
      "Epoch 24/50\n",
      "50000/50000 [==============================] - 440s - loss: 0.6204 - acc: 0.7871 - val_loss: 0.8016 - val_acc: 0.7386\n",
      "Epoch 25/50\n",
      "50000/50000 [==============================] - 539s - loss: 0.6157 - acc: 0.7869 - val_loss: 0.7209 - val_acc: 0.7562\n",
      "Epoch 26/50\n",
      "50000/50000 [==============================] - 553s - loss: 0.5941 - acc: 0.7946 - val_loss: 0.7630 - val_acc: 0.7456\n",
      "Epoch 27/50\n",
      "50000/50000 [==============================] - 463s - loss: 0.5892 - acc: 0.7982 - val_loss: 0.7190 - val_acc: 0.7590\n",
      "Epoch 28/50\n",
      "50000/50000 [==============================] - 403s - loss: 0.5852 - acc: 0.7987 - val_loss: 0.7336 - val_acc: 0.7596\n",
      "Epoch 29/50\n",
      "50000/50000 [==============================] - 407s - loss: 0.5691 - acc: 0.8023 - val_loss: 0.7300 - val_acc: 0.7623\n",
      "Epoch 30/50\n",
      "50000/50000 [==============================] - 436s - loss: 0.5664 - acc: 0.8038 - val_loss: 0.7470 - val_acc: 0.7461\n",
      "Epoch 31/50\n",
      "50000/50000 [==============================] - 465s - loss: 0.5592 - acc: 0.8063 - val_loss: 0.8417 - val_acc: 0.7338\n",
      "Epoch 32/50\n",
      "50000/50000 [==============================] - 403s - loss: 0.5580 - acc: 0.8071 - val_loss: 0.7596 - val_acc: 0.7534\n"
     ]
    },
    {
     "data": {
      "image/png": "[encoded data removed]",
      "text/plain": [
       "<matplotlib.figure.Figure at 0x7f43200b3550>"
      ]
     },
     "metadata": {},
     "output_type": "display_data"
    }
   ],
   "source": [
    "num_epochs = 50\n",
    "model.compile(loss='categorical_crossentropy', optimizer=Adam(lr = 0.001, decay = 1e-5), metrics=['accuracy'])\n",
    "print model.summary()\n",
    "hist = model.fit(X_train, y_train, validation_data=(X_test, y_test) , nb_epoch=num_epochs, \n",
    "                 callbacks = [EarlyStopping(min_delta = 0.001, patience = 4)])\n",
    "\n",
    "#display loss \n",
    "f=plt.figure()\n",
    "plt.plot(hist.history['loss'], linewidth=3, label='train')\n",
    "plt.plot(hist.history['val_loss'], linewidth=3, label='valid')\n",
    "plt.grid()\n",
    "plt.legend()\n",
    "plt.xlabel('epoch')\n",
    "plt.ylabel('loss')\n",
    "plt.yscale('log')\n",
    "plt.show()"
   ]
  },
  {
   "cell_type": "code",
   "execution_count": null,
   "metadata": {
    "collapsed": true
   },
   "outputs": [],
   "source": []
  }
 ],
 "metadata": {
  "kernelspec": {
   "display_name": "Python 2",
   "language": "python",
   "name": "python2"
  },
  "language_info": {
   "codemirror_mode": {
    "name": "ipython",
    "version": 2
   },
   "file_extension": ".py",
   "mimetype": "text/x-python",
   "name": "python",
   "nbconvert_exporter": "python",
   "pygments_lexer": "ipython2",
   "version": "2.7.13"
  }
 },
 "nbformat": 4,
 "nbformat_minor": 2
}
