{
 "cells": [
  {
   "cell_type": "markdown",
   "metadata": {},
   "source": [
    "### Predict Salary of NHL players \n",
    "\n",
    "1. Linear Regression                         (MSE Validation Set: 1.284)\n",
    "2. Lasso Regression                          (MSE Validation Set: 1.342)\n",
    "3. Deep Learning (All Variables)             (MSE Validation Set: 1.170)\n",
    "4. Deep Learning (Importnant Variables)      (MSE Validation Set: 1.123)"
   ]
  },
  {
   "cell_type": "code",
   "execution_count": 60,
   "metadata": {
    "collapsed": true
   },
   "outputs": [],
   "source": [
    "import pandas as pd\n",
    "import matplotlib.pyplot as plt\n",
    "import collections"
   ]
  },
  {
   "cell_type": "code",
   "execution_count": 2,
   "metadata": {
    "collapsed": true
   },
   "outputs": [],
   "source": [
    "cap_2017 = pd.read_csv('CapData_2017.csv')\n",
    "cap_2016 = pd.read_csv('CapData_2016.csv')\n",
    "cap_2015 = pd.read_csv('CapData_2015.csv')\n",
    "cap_2014 = pd.read_csv('CapData_2014.csv')"
   ]
  },
  {
   "cell_type": "code",
   "execution_count": 3,
   "metadata": {},
   "outputs": [
    {
     "data": {
      "text/html": [
       "<div>\n",
       "<style>\n",
       "    .dataframe thead tr:only-child th {\n",
       "        text-align: right;\n",
       "    }\n",
       "\n",
       "    .dataframe thead th {\n",
       "        text-align: left;\n",
       "    }\n",
       "\n",
       "    .dataframe tbody tr th {\n",
       "        vertical-align: top;\n",
       "    }\n",
       "</style>\n",
       "<table border=\"1\" class=\"dataframe\">\n",
       "  <thead>\n",
       "    <tr style=\"text-align: right;\">\n",
       "      <th></th>\n",
       "      <th>PLAYER</th>\n",
       "      <th>TEAM</th>\n",
       "      <th>CLAUSE</th>\n",
       "      <th>EXPIRY</th>\n",
       "      <th>AGE</th>\n",
       "      <th>POS</th>\n",
       "      <th>Unnamed: 6</th>\n",
       "      <th>GP</th>\n",
       "      <th>G</th>\n",
       "      <th>A</th>\n",
       "      <th>...</th>\n",
       "      <th>+/-</th>\n",
       "      <th>TOI</th>\n",
       "      <th>W</th>\n",
       "      <th>L</th>\n",
       "      <th>SO</th>\n",
       "      <th>GAA</th>\n",
       "      <th>Sv%</th>\n",
       "      <th>Unnamed: 18</th>\n",
       "      <th>SALARY</th>\n",
       "      <th>CAP HIT ▾</th>\n",
       "    </tr>\n",
       "  </thead>\n",
       "  <tbody>\n",
       "    <tr>\n",
       "      <th>0</th>\n",
       "      <td>1. Patrick Kane</td>\n",
       "      <td>Chicago Blackhawks</td>\n",
       "      <td>NMC</td>\n",
       "      <td>UFA</td>\n",
       "      <td>28</td>\n",
       "      <td>RW, C</td>\n",
       "      <td>NaN</td>\n",
       "      <td>82</td>\n",
       "      <td>34</td>\n",
       "      <td>55</td>\n",
       "      <td>...</td>\n",
       "      <td>11</td>\n",
       "      <td>21:23</td>\n",
       "      <td>-</td>\n",
       "      <td>-</td>\n",
       "      <td>-</td>\n",
       "      <td>-</td>\n",
       "      <td>-</td>\n",
       "      <td>NaN</td>\n",
       "      <td>$13,800,000</td>\n",
       "      <td>$10,500,000</td>\n",
       "    </tr>\n",
       "    <tr>\n",
       "      <th>1</th>\n",
       "      <td>2. Jonathan Toews</td>\n",
       "      <td>Chicago Blackhawks</td>\n",
       "      <td>NMC</td>\n",
       "      <td>UFA</td>\n",
       "      <td>29</td>\n",
       "      <td>C</td>\n",
       "      <td>NaN</td>\n",
       "      <td>72</td>\n",
       "      <td>21</td>\n",
       "      <td>37</td>\n",
       "      <td>...</td>\n",
       "      <td>7</td>\n",
       "      <td>20:09</td>\n",
       "      <td>-</td>\n",
       "      <td>-</td>\n",
       "      <td>-</td>\n",
       "      <td>-</td>\n",
       "      <td>-</td>\n",
       "      <td>NaN</td>\n",
       "      <td>$13,800,000</td>\n",
       "      <td>$10,500,000</td>\n",
       "    </tr>\n",
       "    <tr>\n",
       "      <th>2</th>\n",
       "      <td>3. Anze Kopitar</td>\n",
       "      <td>Los Angeles Kings</td>\n",
       "      <td>NMC</td>\n",
       "      <td>UFA</td>\n",
       "      <td>29</td>\n",
       "      <td>C</td>\n",
       "      <td>NaN</td>\n",
       "      <td>76</td>\n",
       "      <td>12</td>\n",
       "      <td>40</td>\n",
       "      <td>...</td>\n",
       "      <td>-10</td>\n",
       "      <td>20:45</td>\n",
       "      <td>-</td>\n",
       "      <td>-</td>\n",
       "      <td>-</td>\n",
       "      <td>-</td>\n",
       "      <td>-</td>\n",
       "      <td>NaN</td>\n",
       "      <td>$14,000,000</td>\n",
       "      <td>$10,000,000</td>\n",
       "    </tr>\n",
       "    <tr>\n",
       "      <th>3</th>\n",
       "      <td>4. Alex Ovechkin</td>\n",
       "      <td>Washington Capitals</td>\n",
       "      <td>M-NTC</td>\n",
       "      <td>UFA</td>\n",
       "      <td>31</td>\n",
       "      <td>LW, RW</td>\n",
       "      <td>NaN</td>\n",
       "      <td>82</td>\n",
       "      <td>33</td>\n",
       "      <td>36</td>\n",
       "      <td>...</td>\n",
       "      <td>6</td>\n",
       "      <td>18:21</td>\n",
       "      <td>-</td>\n",
       "      <td>-</td>\n",
       "      <td>-</td>\n",
       "      <td>-</td>\n",
       "      <td>-</td>\n",
       "      <td>NaN</td>\n",
       "      <td>$10,000,000</td>\n",
       "      <td>$9,538,462</td>\n",
       "    </tr>\n",
       "    <tr>\n",
       "      <th>4</th>\n",
       "      <td>5. Evgeni Malkin</td>\n",
       "      <td>Pittsburgh Penguins</td>\n",
       "      <td>NMC</td>\n",
       "      <td>UFA</td>\n",
       "      <td>30</td>\n",
       "      <td>C, RW</td>\n",
       "      <td>NaN</td>\n",
       "      <td>62</td>\n",
       "      <td>33</td>\n",
       "      <td>39</td>\n",
       "      <td>...</td>\n",
       "      <td>18</td>\n",
       "      <td>18:37</td>\n",
       "      <td>-</td>\n",
       "      <td>-</td>\n",
       "      <td>-</td>\n",
       "      <td>-</td>\n",
       "      <td>-</td>\n",
       "      <td>NaN</td>\n",
       "      <td>$9,500,000</td>\n",
       "      <td>$9,500,000</td>\n",
       "    </tr>\n",
       "  </tbody>\n",
       "</table>\n",
       "<p>5 rows × 21 columns</p>\n",
       "</div>"
      ],
      "text/plain": [
       "              PLAYER                 TEAM CLAUSE EXPIRY  AGE     POS  \\\n",
       "0    1. Patrick Kane   Chicago Blackhawks    NMC    UFA   28   RW, C   \n",
       "1  2. Jonathan Toews   Chicago Blackhawks    NMC    UFA   29       C   \n",
       "2    3. Anze Kopitar    Los Angeles Kings    NMC    UFA   29       C   \n",
       "3   4. Alex Ovechkin  Washington Capitals  M-NTC    UFA   31  LW, RW   \n",
       "4   5. Evgeni Malkin  Pittsburgh Penguins    NMC    UFA   30   C, RW   \n",
       "\n",
       "   Unnamed: 6  GP   G   A     ...       +/-    TOI  W  L SO GAA Sv%  \\\n",
       "0         NaN  82  34  55     ...        11  21:23  -  -  -   -   -   \n",
       "1         NaN  72  21  37     ...         7  20:09  -  -  -   -   -   \n",
       "2         NaN  76  12  40     ...       -10  20:45  -  -  -   -   -   \n",
       "3         NaN  82  33  36     ...         6  18:21  -  -  -   -   -   \n",
       "4         NaN  62  33  39     ...        18  18:37  -  -  -   -   -   \n",
       "\n",
       "  Unnamed: 18       SALARY    CAP HIT ▾  \n",
       "0         NaN  $13,800,000  $10,500,000  \n",
       "1         NaN  $13,800,000  $10,500,000  \n",
       "2         NaN  $14,000,000  $10,000,000  \n",
       "3         NaN  $10,000,000   $9,538,462  \n",
       "4         NaN   $9,500,000   $9,500,000  \n",
       "\n",
       "[5 rows x 21 columns]"
      ]
     },
     "execution_count": 3,
     "metadata": {},
     "output_type": "execute_result"
    }
   ],
   "source": [
    "cap_2017.head()"
   ]
  },
  {
   "cell_type": "code",
   "execution_count": 4,
   "metadata": {
    "collapsed": true
   },
   "outputs": [],
   "source": [
    "del cap_2017['Unnamed: 6']\n",
    "del cap_2017['Unnamed: 18']\n",
    "\n",
    "del cap_2016['Unnamed: 6']\n",
    "del cap_2016['Unnamed: 18']\n",
    "\n",
    "del cap_2015['Unnamed: 6']\n",
    "del cap_2015['Unnamed: 18']\n",
    "\n",
    "del cap_2014['Unnamed: 6']\n",
    "del cap_2014['Unnamed: 18']"
   ]
  },
  {
   "cell_type": "code",
   "execution_count": 5,
   "metadata": {
    "collapsed": true
   },
   "outputs": [],
   "source": [
    "def remove_index_from_name(string1):\n",
    "    space = string1.index(' ')\n",
    "    return string1[space+1:]\n",
    "def convert_salary(string1):\n",
    "    string1 = string1.replace(',', '')\n",
    "    return round(int(string1[1:])/float(1000000),3)"
   ]
  },
  {
   "cell_type": "code",
   "execution_count": 6,
   "metadata": {},
   "outputs": [
    {
     "data": {
      "text/html": [
       "<div>\n",
       "<style>\n",
       "    .dataframe thead tr:only-child th {\n",
       "        text-align: right;\n",
       "    }\n",
       "\n",
       "    .dataframe thead th {\n",
       "        text-align: left;\n",
       "    }\n",
       "\n",
       "    .dataframe tbody tr th {\n",
       "        vertical-align: top;\n",
       "    }\n",
       "</style>\n",
       "<table border=\"1\" class=\"dataframe\">\n",
       "  <thead>\n",
       "    <tr style=\"text-align: right;\">\n",
       "      <th></th>\n",
       "      <th>PLAYER</th>\n",
       "      <th>TEAM</th>\n",
       "      <th>CLAUSE</th>\n",
       "      <th>EXPIRY</th>\n",
       "      <th>AGE</th>\n",
       "      <th>POS</th>\n",
       "      <th>GP</th>\n",
       "      <th>G</th>\n",
       "      <th>A</th>\n",
       "      <th>P</th>\n",
       "      <th>+/-</th>\n",
       "      <th>TOI</th>\n",
       "      <th>W</th>\n",
       "      <th>L</th>\n",
       "      <th>SO</th>\n",
       "      <th>GAA</th>\n",
       "      <th>Sv%</th>\n",
       "      <th>SALARY</th>\n",
       "      <th>CAP HIT ▾</th>\n",
       "    </tr>\n",
       "  </thead>\n",
       "  <tbody>\n",
       "    <tr>\n",
       "      <th>0</th>\n",
       "      <td>1. Patrick Kane</td>\n",
       "      <td>Chicago Blackhawks</td>\n",
       "      <td>NMC</td>\n",
       "      <td>UFA</td>\n",
       "      <td>28</td>\n",
       "      <td>RW, C</td>\n",
       "      <td>82</td>\n",
       "      <td>46</td>\n",
       "      <td>60</td>\n",
       "      <td>106</td>\n",
       "      <td>17</td>\n",
       "      <td>20:24</td>\n",
       "      <td>-</td>\n",
       "      <td>-</td>\n",
       "      <td>-</td>\n",
       "      <td>-</td>\n",
       "      <td>-</td>\n",
       "      <td>$13,800,000</td>\n",
       "      <td>$10,500,000</td>\n",
       "    </tr>\n",
       "    <tr>\n",
       "      <th>1</th>\n",
       "      <td>2. Jonathan Toews</td>\n",
       "      <td>Chicago Blackhawks</td>\n",
       "      <td>NMC</td>\n",
       "      <td>UFA</td>\n",
       "      <td>29</td>\n",
       "      <td>C</td>\n",
       "      <td>80</td>\n",
       "      <td>28</td>\n",
       "      <td>30</td>\n",
       "      <td>58</td>\n",
       "      <td>16</td>\n",
       "      <td>19:14</td>\n",
       "      <td>-</td>\n",
       "      <td>-</td>\n",
       "      <td>-</td>\n",
       "      <td>-</td>\n",
       "      <td>-</td>\n",
       "      <td>$13,800,000</td>\n",
       "      <td>$10,500,000</td>\n",
       "    </tr>\n",
       "    <tr>\n",
       "      <th>2</th>\n",
       "      <td>3. Alex Ovechkin</td>\n",
       "      <td>Washington Capitals</td>\n",
       "      <td>M-NTC</td>\n",
       "      <td>UFA</td>\n",
       "      <td>31</td>\n",
       "      <td>LW, RW</td>\n",
       "      <td>79</td>\n",
       "      <td>50</td>\n",
       "      <td>21</td>\n",
       "      <td>71</td>\n",
       "      <td>21</td>\n",
       "      <td>20:18</td>\n",
       "      <td>-</td>\n",
       "      <td>-</td>\n",
       "      <td>-</td>\n",
       "      <td>-</td>\n",
       "      <td>-</td>\n",
       "      <td>$10,000,000</td>\n",
       "      <td>$9,538,462</td>\n",
       "    </tr>\n",
       "    <tr>\n",
       "      <th>3</th>\n",
       "      <td>4. Evgeni Malkin</td>\n",
       "      <td>Pittsburgh Penguins</td>\n",
       "      <td>NMC</td>\n",
       "      <td>UFA</td>\n",
       "      <td>30</td>\n",
       "      <td>C, RW</td>\n",
       "      <td>57</td>\n",
       "      <td>27</td>\n",
       "      <td>31</td>\n",
       "      <td>58</td>\n",
       "      <td>1</td>\n",
       "      <td>19:22</td>\n",
       "      <td>-</td>\n",
       "      <td>-</td>\n",
       "      <td>-</td>\n",
       "      <td>-</td>\n",
       "      <td>-</td>\n",
       "      <td>$9,500,000</td>\n",
       "      <td>$9,500,000</td>\n",
       "    </tr>\n",
       "    <tr>\n",
       "      <th>4</th>\n",
       "      <td>5. P.K. Subban</td>\n",
       "      <td>Nashville Predators</td>\n",
       "      <td>NaN</td>\n",
       "      <td>UFA</td>\n",
       "      <td>28</td>\n",
       "      <td>D</td>\n",
       "      <td>68</td>\n",
       "      <td>6</td>\n",
       "      <td>45</td>\n",
       "      <td>51</td>\n",
       "      <td>4</td>\n",
       "      <td>26:21</td>\n",
       "      <td>-</td>\n",
       "      <td>-</td>\n",
       "      <td>-</td>\n",
       "      <td>-</td>\n",
       "      <td>-</td>\n",
       "      <td>$7,000,000</td>\n",
       "      <td>$9,000,000</td>\n",
       "    </tr>\n",
       "  </tbody>\n",
       "</table>\n",
       "</div>"
      ],
      "text/plain": [
       "              PLAYER                 TEAM CLAUSE EXPIRY  AGE     POS  GP   G  \\\n",
       "0    1. Patrick Kane   Chicago Blackhawks    NMC    UFA   28   RW, C  82  46   \n",
       "1  2. Jonathan Toews   Chicago Blackhawks    NMC    UFA   29       C  80  28   \n",
       "2   3. Alex Ovechkin  Washington Capitals  M-NTC    UFA   31  LW, RW  79  50   \n",
       "3   4. Evgeni Malkin  Pittsburgh Penguins    NMC    UFA   30   C, RW  57  27   \n",
       "4     5. P.K. Subban  Nashville Predators    NaN    UFA   28       D  68   6   \n",
       "\n",
       "    A    P +/-    TOI  W  L SO GAA Sv%       SALARY    CAP HIT ▾  \n",
       "0  60  106  17  20:24  -  -  -   -   -  $13,800,000  $10,500,000  \n",
       "1  30   58  16  19:14  -  -  -   -   -  $13,800,000  $10,500,000  \n",
       "2  21   71  21  20:18  -  -  -   -   -  $10,000,000   $9,538,462  \n",
       "3  31   58   1  19:22  -  -  -   -   -   $9,500,000   $9,500,000  \n",
       "4  45   51   4  26:21  -  -  -   -   -   $7,000,000   $9,000,000  "
      ]
     },
     "execution_count": 6,
     "metadata": {},
     "output_type": "execute_result"
    }
   ],
   "source": [
    "cap_2016.head()"
   ]
  },
  {
   "cell_type": "code",
   "execution_count": 7,
   "metadata": {
    "collapsed": true
   },
   "outputs": [],
   "source": [
    "cap_2017['PLAYER'] = cap_2017['PLAYER'].apply(remove_index_from_name)\n",
    "cap_2016['PLAYER'] = cap_2016['PLAYER'].apply(remove_index_from_name)\n",
    "cap_2015['PLAYER'] = cap_2015['PLAYER'].apply(remove_index_from_name)\n",
    "cap_2014['PLAYER'] = cap_2014['PLAYER'].apply(remove_index_from_name)\n",
    "\n",
    "cap_2017['SALARY'] = cap_2017['SALARY'].apply(convert_salary)\n",
    "cap_2016['SALARY'] = cap_2016['SALARY'].apply(convert_salary)\n",
    "cap_2015['SALARY'] = cap_2015['SALARY'].apply(convert_salary)\n",
    "cap_2014['SALARY'] = cap_2014['SALARY'].apply(convert_salary)\n",
    "\n",
    "cap_2017['CAP HIT ▾'] = cap_2017['CAP HIT ▾'].apply(convert_salary)\n",
    "cap_2016['CAP HIT ▾'] = cap_2016['CAP HIT ▾'].apply(convert_salary)\n",
    "cap_2015['CAP HIT ▾'] = cap_2015['CAP HIT ▾'].apply(convert_salary)\n",
    "cap_2014['CAP HIT ▾'] = cap_2014['CAP HIT ▾'].apply(convert_salary)"
   ]
  },
  {
   "cell_type": "code",
   "execution_count": 12,
   "metadata": {
    "collapsed": true
   },
   "outputs": [],
   "source": [
    "salary_2016 = dict(zip(cap_2016['PLAYER'],cap_2016['CAP HIT ▾']))\n",
    "salary_2015 = dict(zip(cap_2015['PLAYER'],cap_2015['CAP HIT ▾']))\n",
    "salary_2014 = dict(zip(cap_2014['PLAYER'],cap_2014['CAP HIT ▾']))\n",
    "salary_2017 = dict(zip(cap_2017['PLAYER'],cap_2017['CAP HIT ▾']))"
   ]
  },
  {
   "cell_type": "code",
   "execution_count": 13,
   "metadata": {
    "collapsed": true
   },
   "outputs": [],
   "source": [
    "from collections import defaultdict\n",
    "contract_dict=defaultdict(list)"
   ]
  },
  {
   "cell_type": "code",
   "execution_count": 14,
   "metadata": {
    "collapsed": true
   },
   "outputs": [],
   "source": [
    "def contract_year(this_year, next_year, year,contract_dict):\n",
    "    for ith in next_year:\n",
    "        if ith in this_year:\n",
    "            if this_year[ith] != next_year[ith]:\n",
    "                contract_dict[ith].append(year)\n",
    "        else:\n",
    "            contract_dict[ith].append(year)\n",
    "    return contract_dict"
   ]
  },
  {
   "cell_type": "code",
   "execution_count": 15,
   "metadata": {
    "collapsed": true
   },
   "outputs": [],
   "source": [
    "contract_dict = contract_year(salary_2014, salary_2015, 2015, contract_dict)\n",
    "contract_dict = contract_year(salary_2015, salary_2016, 2016, contract_dict)\n",
    "contract_dict = contract_year(salary_2016, salary_2017, 2017, contract_dict)"
   ]
  },
  {
   "cell_type": "code",
   "execution_count": 18,
   "metadata": {
    "collapsed": true
   },
   "outputs": [],
   "source": [
    "def data_years(cap_year, year):\n",
    "    data_list=[]\n",
    "    for ith in range(cap_year.shape[0]):\n",
    "        if cap_year.PLAYER[ith] in contract_dict:\n",
    "            if year in contract_dict[cap_year.PLAYER[ith]]:\n",
    "                data_list.append(cap_year.loc[ith]) \n",
    "    data = pd.DataFrame(data_list)\n",
    "    data['year'] = year\n",
    "    return data"
   ]
  },
  {
   "cell_type": "code",
   "execution_count": 19,
   "metadata": {
    "collapsed": true
   },
   "outputs": [],
   "source": [
    "data_2015 = data_years(cap_2015, 2015)\n",
    "data_2016 = data_years(cap_2016, 2016)\n",
    "data_2017 = data_years(cap_2015, 2017)\n"
   ]
  },
  {
   "cell_type": "code",
   "execution_count": 20,
   "metadata": {
    "collapsed": true
   },
   "outputs": [],
   "source": [
    "salary_contract=data_2015.append(data_2016).append(data_2017)"
   ]
  },
  {
   "cell_type": "code",
   "execution_count": 21,
   "metadata": {
    "collapsed": true
   },
   "outputs": [],
   "source": [
    "salary_contract = salary_contract.reset_index(drop = True)"
   ]
  },
  {
   "cell_type": "code",
   "execution_count": 22,
   "metadata": {},
   "outputs": [
    {
     "data": {
      "text/html": [
       "<div>\n",
       "<style>\n",
       "    .dataframe thead tr:only-child th {\n",
       "        text-align: right;\n",
       "    }\n",
       "\n",
       "    .dataframe thead th {\n",
       "        text-align: left;\n",
       "    }\n",
       "\n",
       "    .dataframe tbody tr th {\n",
       "        vertical-align: top;\n",
       "    }\n",
       "</style>\n",
       "<table border=\"1\" class=\"dataframe\">\n",
       "  <thead>\n",
       "    <tr style=\"text-align: right;\">\n",
       "      <th></th>\n",
       "      <th>PLAYER</th>\n",
       "      <th>TEAM</th>\n",
       "      <th>CLAUSE</th>\n",
       "      <th>EXPIRY</th>\n",
       "      <th>AGE</th>\n",
       "      <th>POS</th>\n",
       "      <th>GP</th>\n",
       "      <th>G</th>\n",
       "      <th>A</th>\n",
       "      <th>P</th>\n",
       "      <th>+/-</th>\n",
       "      <th>TOI</th>\n",
       "      <th>W</th>\n",
       "      <th>L</th>\n",
       "      <th>SO</th>\n",
       "      <th>GAA</th>\n",
       "      <th>Sv%</th>\n",
       "      <th>SALARY</th>\n",
       "      <th>CAP HIT ▾</th>\n",
       "      <th>year</th>\n",
       "    </tr>\n",
       "  </thead>\n",
       "  <tbody>\n",
       "    <tr>\n",
       "      <th>0</th>\n",
       "      <td>Evgeni Malkin</td>\n",
       "      <td>Pittsburgh Penguins</td>\n",
       "      <td>NMC</td>\n",
       "      <td>UFA</td>\n",
       "      <td>30</td>\n",
       "      <td>C, RW</td>\n",
       "      <td>69</td>\n",
       "      <td>28</td>\n",
       "      <td>42</td>\n",
       "      <td>70</td>\n",
       "      <td>-2</td>\n",
       "      <td>18:58</td>\n",
       "      <td>-</td>\n",
       "      <td>-</td>\n",
       "      <td>-</td>\n",
       "      <td>-</td>\n",
       "      <td>-</td>\n",
       "      <td>9.5</td>\n",
       "      <td>9.500</td>\n",
       "      <td>2015</td>\n",
       "    </tr>\n",
       "    <tr>\n",
       "      <th>1</th>\n",
       "      <td>P.K. Subban</td>\n",
       "      <td>Nashville Predators</td>\n",
       "      <td>NaN</td>\n",
       "      <td>UFA</td>\n",
       "      <td>28</td>\n",
       "      <td>D</td>\n",
       "      <td>82</td>\n",
       "      <td>15</td>\n",
       "      <td>45</td>\n",
       "      <td>60</td>\n",
       "      <td>21</td>\n",
       "      <td>26:12</td>\n",
       "      <td>-</td>\n",
       "      <td>-</td>\n",
       "      <td>-</td>\n",
       "      <td>-</td>\n",
       "      <td>-</td>\n",
       "      <td>7.0</td>\n",
       "      <td>9.000</td>\n",
       "      <td>2015</td>\n",
       "    </tr>\n",
       "    <tr>\n",
       "      <th>2</th>\n",
       "      <td>Henrik Lundqvist</td>\n",
       "      <td>New York Rangers</td>\n",
       "      <td>NMC</td>\n",
       "      <td>UFA</td>\n",
       "      <td>35</td>\n",
       "      <td>G</td>\n",
       "      <td>46</td>\n",
       "      <td>-</td>\n",
       "      <td>-</td>\n",
       "      <td>-</td>\n",
       "      <td>-</td>\n",
       "      <td>-</td>\n",
       "      <td>30</td>\n",
       "      <td>13</td>\n",
       "      <td>5</td>\n",
       "      <td>2.25</td>\n",
       "      <td>.922</td>\n",
       "      <td>11.0</td>\n",
       "      <td>8.500</td>\n",
       "      <td>2015</td>\n",
       "    </tr>\n",
       "    <tr>\n",
       "      <th>3</th>\n",
       "      <td>Claude Giroux</td>\n",
       "      <td>Philadelphia Flyers</td>\n",
       "      <td>NaN</td>\n",
       "      <td>UFA</td>\n",
       "      <td>29</td>\n",
       "      <td>C, RW</td>\n",
       "      <td>81</td>\n",
       "      <td>25</td>\n",
       "      <td>48</td>\n",
       "      <td>73</td>\n",
       "      <td>-3</td>\n",
       "      <td>20:33</td>\n",
       "      <td>-</td>\n",
       "      <td>-</td>\n",
       "      <td>-</td>\n",
       "      <td>-</td>\n",
       "      <td>-</td>\n",
       "      <td>10.0</td>\n",
       "      <td>8.275</td>\n",
       "      <td>2015</td>\n",
       "    </tr>\n",
       "    <tr>\n",
       "      <th>4</th>\n",
       "      <td>Phil Kessel</td>\n",
       "      <td>Pittsburgh Penguins</td>\n",
       "      <td>M-NTC, NMC</td>\n",
       "      <td>UFA</td>\n",
       "      <td>29</td>\n",
       "      <td>RW</td>\n",
       "      <td>82</td>\n",
       "      <td>25</td>\n",
       "      <td>36</td>\n",
       "      <td>61</td>\n",
       "      <td>-34</td>\n",
       "      <td>18:47</td>\n",
       "      <td>-</td>\n",
       "      <td>-</td>\n",
       "      <td>-</td>\n",
       "      <td>-</td>\n",
       "      <td>-</td>\n",
       "      <td>10.0</td>\n",
       "      <td>8.000</td>\n",
       "      <td>2015</td>\n",
       "    </tr>\n",
       "  </tbody>\n",
       "</table>\n",
       "</div>"
      ],
      "text/plain": [
       "             PLAYER                 TEAM      CLAUSE EXPIRY  AGE    POS  GP  \\\n",
       "0     Evgeni Malkin  Pittsburgh Penguins         NMC    UFA   30  C, RW  69   \n",
       "1       P.K. Subban  Nashville Predators         NaN    UFA   28      D  82   \n",
       "2  Henrik Lundqvist     New York Rangers         NMC    UFA   35      G  46   \n",
       "3     Claude Giroux  Philadelphia Flyers         NaN    UFA   29  C, RW  81   \n",
       "4       Phil Kessel  Pittsburgh Penguins  M-NTC, NMC    UFA   29     RW  82   \n",
       "\n",
       "    G   A   P  +/-    TOI   W   L SO   GAA   Sv%  SALARY  CAP HIT ▾  year  \n",
       "0  28  42  70   -2  18:58   -   -  -     -     -     9.5      9.500  2015  \n",
       "1  15  45  60   21  26:12   -   -  -     -     -     7.0      9.000  2015  \n",
       "2   -   -   -    -      -  30  13  5  2.25  .922    11.0      8.500  2015  \n",
       "3  25  48  73   -3  20:33   -   -  -     -     -    10.0      8.275  2015  \n",
       "4  25  36  61  -34  18:47   -   -  -     -     -    10.0      8.000  2015  "
      ]
     },
     "execution_count": 22,
     "metadata": {},
     "output_type": "execute_result"
    }
   ],
   "source": [
    "salary_contract.head()"
   ]
  },
  {
   "cell_type": "code",
   "execution_count": 23,
   "metadata": {
    "collapsed": true
   },
   "outputs": [],
   "source": [
    "salary_contract.year = salary_contract.year.astype(int)"
   ]
  },
  {
   "cell_type": "code",
   "execution_count": 24,
   "metadata": {
    "collapsed": true
   },
   "outputs": [],
   "source": [
    "salary_contract_2017 = salary_contract[salary_contract['year']==2017].reset_index(drop=True)\n",
    "salary_contract_2016 = salary_contract[salary_contract['year']==2016].reset_index(drop=True)\n",
    "salary_contract_2015 = salary_contract[salary_contract['year']==2015].reset_index(drop=True)"
   ]
  },
  {
   "cell_type": "code",
   "execution_count": 25,
   "metadata": {},
   "outputs": [
    {
     "data": {
      "text/html": [
       "<div>\n",
       "<style>\n",
       "    .dataframe thead tr:only-child th {\n",
       "        text-align: right;\n",
       "    }\n",
       "\n",
       "    .dataframe thead th {\n",
       "        text-align: left;\n",
       "    }\n",
       "\n",
       "    .dataframe tbody tr th {\n",
       "        vertical-align: top;\n",
       "    }\n",
       "</style>\n",
       "<table border=\"1\" class=\"dataframe\">\n",
       "  <thead>\n",
       "    <tr style=\"text-align: right;\">\n",
       "      <th></th>\n",
       "      <th>PLAYER</th>\n",
       "      <th>TEAM</th>\n",
       "      <th>CLAUSE</th>\n",
       "      <th>EXPIRY</th>\n",
       "      <th>AGE</th>\n",
       "      <th>POS</th>\n",
       "      <th>GP</th>\n",
       "      <th>G</th>\n",
       "      <th>A</th>\n",
       "      <th>P</th>\n",
       "      <th>+/-</th>\n",
       "      <th>TOI</th>\n",
       "      <th>W</th>\n",
       "      <th>L</th>\n",
       "      <th>SO</th>\n",
       "      <th>GAA</th>\n",
       "      <th>Sv%</th>\n",
       "      <th>SALARY</th>\n",
       "      <th>CAP HIT ▾</th>\n",
       "      <th>year</th>\n",
       "    </tr>\n",
       "  </thead>\n",
       "  <tbody>\n",
       "    <tr>\n",
       "      <th>0</th>\n",
       "      <td>Eric Staal</td>\n",
       "      <td>Minnesota Wild</td>\n",
       "      <td>NTC</td>\n",
       "      <td>UFA</td>\n",
       "      <td>32</td>\n",
       "      <td>C</td>\n",
       "      <td>77</td>\n",
       "      <td>23</td>\n",
       "      <td>31</td>\n",
       "      <td>54</td>\n",
       "      <td>-13</td>\n",
       "      <td>18:50</td>\n",
       "      <td>-</td>\n",
       "      <td>-</td>\n",
       "      <td>-</td>\n",
       "      <td>-</td>\n",
       "      <td>-</td>\n",
       "      <td>9.25</td>\n",
       "      <td>8.25</td>\n",
       "      <td>2017</td>\n",
       "    </tr>\n",
       "    <tr>\n",
       "      <th>1</th>\n",
       "      <td>Steven Stamkos</td>\n",
       "      <td>Tampa Bay Lightning</td>\n",
       "      <td>NaN</td>\n",
       "      <td>UFA</td>\n",
       "      <td>27</td>\n",
       "      <td>C</td>\n",
       "      <td>82</td>\n",
       "      <td>43</td>\n",
       "      <td>29</td>\n",
       "      <td>72</td>\n",
       "      <td>2</td>\n",
       "      <td>19:22</td>\n",
       "      <td>-</td>\n",
       "      <td>-</td>\n",
       "      <td>-</td>\n",
       "      <td>-</td>\n",
       "      <td>-</td>\n",
       "      <td>8.00</td>\n",
       "      <td>7.50</td>\n",
       "      <td>2017</td>\n",
       "    </tr>\n",
       "    <tr>\n",
       "      <th>2</th>\n",
       "      <td>Anze Kopitar</td>\n",
       "      <td>Los Angeles Kings</td>\n",
       "      <td>NaN</td>\n",
       "      <td>UFA</td>\n",
       "      <td>29</td>\n",
       "      <td>C</td>\n",
       "      <td>79</td>\n",
       "      <td>16</td>\n",
       "      <td>48</td>\n",
       "      <td>64</td>\n",
       "      <td>-2</td>\n",
       "      <td>19:23</td>\n",
       "      <td>-</td>\n",
       "      <td>-</td>\n",
       "      <td>-</td>\n",
       "      <td>-</td>\n",
       "      <td>-</td>\n",
       "      <td>7.50</td>\n",
       "      <td>6.80</td>\n",
       "      <td>2017</td>\n",
       "    </tr>\n",
       "    <tr>\n",
       "      <th>3</th>\n",
       "      <td>Thomas Vanek</td>\n",
       "      <td>Chicago Blackhawks</td>\n",
       "      <td>NMC</td>\n",
       "      <td>UFA</td>\n",
       "      <td>33</td>\n",
       "      <td>LW, RW</td>\n",
       "      <td>80</td>\n",
       "      <td>21</td>\n",
       "      <td>31</td>\n",
       "      <td>52</td>\n",
       "      <td>-6</td>\n",
       "      <td>16:12</td>\n",
       "      <td>-</td>\n",
       "      <td>-</td>\n",
       "      <td>-</td>\n",
       "      <td>-</td>\n",
       "      <td>-</td>\n",
       "      <td>5.50</td>\n",
       "      <td>6.50</td>\n",
       "      <td>2017</td>\n",
       "    </tr>\n",
       "    <tr>\n",
       "      <th>4</th>\n",
       "      <td>Cam Ward</td>\n",
       "      <td>Detroit Red Wings</td>\n",
       "      <td>NTC</td>\n",
       "      <td>UFA</td>\n",
       "      <td>33</td>\n",
       "      <td>G</td>\n",
       "      <td>51</td>\n",
       "      <td>-</td>\n",
       "      <td>-</td>\n",
       "      <td>-</td>\n",
       "      <td>-</td>\n",
       "      <td>-</td>\n",
       "      <td>22</td>\n",
       "      <td>24</td>\n",
       "      <td>1</td>\n",
       "      <td>2.40</td>\n",
       "      <td>.910</td>\n",
       "      <td>6.70</td>\n",
       "      <td>6.30</td>\n",
       "      <td>2017</td>\n",
       "    </tr>\n",
       "  </tbody>\n",
       "</table>\n",
       "</div>"
      ],
      "text/plain": [
       "           PLAYER                 TEAM CLAUSE EXPIRY  AGE     POS  GP   G   A  \\\n",
       "0      Eric Staal       Minnesota Wild    NTC    UFA   32       C  77  23  31   \n",
       "1  Steven Stamkos  Tampa Bay Lightning    NaN    UFA   27       C  82  43  29   \n",
       "2    Anze Kopitar    Los Angeles Kings    NaN    UFA   29       C  79  16  48   \n",
       "3    Thomas Vanek   Chicago Blackhawks    NMC    UFA   33  LW, RW  80  21  31   \n",
       "4        Cam Ward    Detroit Red Wings    NTC    UFA   33       G  51   -   -   \n",
       "\n",
       "    P  +/-    TOI   W   L SO   GAA   Sv%  SALARY  CAP HIT ▾  year  \n",
       "0  54  -13  18:50   -   -  -     -     -    9.25       8.25  2017  \n",
       "1  72    2  19:22   -   -  -     -     -    8.00       7.50  2017  \n",
       "2  64   -2  19:23   -   -  -     -     -    7.50       6.80  2017  \n",
       "3  52   -6  16:12   -   -  -     -     -    5.50       6.50  2017  \n",
       "4   -    -      -  22  24  1  2.40  .910    6.70       6.30  2017  "
      ]
     },
     "execution_count": 25,
     "metadata": {},
     "output_type": "execute_result"
    }
   ],
   "source": [
    "salary_contract_2017.head()"
   ]
  },
  {
   "cell_type": "code",
   "execution_count": 26,
   "metadata": {
    "collapsed": true
   },
   "outputs": [],
   "source": [
    "salary_contract_2017 = salary_contract_2017[['PLAYER','AGE','CLAUSE','EXPIRY','SALARY','CAP HIT ▾','year']]\n",
    "salary_contract_2016 = salary_contract_2016[['PLAYER','AGE','CLAUSE','EXPIRY','SALARY','CAP HIT ▾','year']]\n",
    "salary_contract_2015 = salary_contract_2015[['PLAYER','AGE','CLAUSE','EXPIRY','SALARY','CAP HIT ▾','year']]"
   ]
  },
  {
   "cell_type": "code",
   "execution_count": 27,
   "metadata": {},
   "outputs": [
    {
     "data": {
      "image/png": "[encoded data removed]",
      "text/plain": [
       "<matplotlib.figure.Figure at 0x7fe755396c90>"
      ]
     },
     "metadata": {},
     "output_type": "display_data"
    }
   ],
   "source": [
    "# ax = salary_contract[salary_contract['year']==2017].plot(y='CAP HIT ▾')\n",
    "ax = salary_contract_2017.plot(y='CAP HIT ▾', color = 'green', kind = 'line', label = '2017')\n",
    "salary_contract_2016.plot(y='CAP HIT ▾', color = 'red', kind = 'line', ax = ax, label = '2016')\n",
    "salary_contract_2015.plot(y='CAP HIT ▾', color = 'blue', kind = 'line', ax = ax, label = '2015')\n",
    "plt.legend(loc = 'upper right')\n",
    "plt.title('salary by year')\n",
    "plt.ylabel('salary (million)')\n",
    "plt.show()"
   ]
  },
  {
   "cell_type": "code",
   "execution_count": 28,
   "metadata": {},
   "outputs": [
    {
     "data": {
      "text/plain": [
       "1570"
      ]
     },
     "execution_count": 28,
     "metadata": {},
     "output_type": "execute_result"
    }
   ],
   "source": [
    "len(salary_contract['PLAYER'].values)"
   ]
  },
  {
   "cell_type": "code",
   "execution_count": 29,
   "metadata": {
    "collapsed": true
   },
   "outputs": [],
   "source": [
    "stats_2011_14=pd.read_csv('PuckalyticsSkaterStats-2011-14-5vs5.csv')\n",
    "stats_2012_15=pd.read_csv('PuckalyticsSkaterStats-2012-15-5vs5.csv')\n",
    "stats_2013_16=pd.read_csv('PuckalyticsSkaterStats-2013-16-5vs5.csv')"
   ]
  },
  {
   "cell_type": "code",
   "execution_count": 30,
   "metadata": {
    "collapsed": true
   },
   "outputs": [],
   "source": [
    "stats_2013_16['Name'] =  stats_2013_16['FirstName'] + ' ' + stats_2013_16['LastName'] \n",
    "stats_2012_15['Name'] =  stats_2012_15['FirstName'] + ' ' + stats_2012_15['LastName'] \n",
    "stats_2011_14['Name'] =  stats_2011_14['FirstName'] + ' ' + stats_2011_14['LastName'] "
   ]
  },
  {
   "cell_type": "code",
   "execution_count": 31,
   "metadata": {
    "collapsed": true
   },
   "outputs": [],
   "source": [
    "def name_clean(string): \n",
    "#     print(string)\n",
    "    string = string[1:]\n",
    "    return string.lower().title()\n"
   ]
  },
  {
   "cell_type": "code",
   "execution_count": 32,
   "metadata": {
    "collapsed": true
   },
   "outputs": [],
   "source": [
    "stats_2013_16['Name'] = stats_2013_16['Name'].apply(name_clean)\n",
    "stats_2012_15['Name'] = stats_2012_15['Name'].apply(name_clean)\n",
    "stats_2011_14['Name'] = stats_2011_14['Name'].apply(name_clean)"
   ]
  },
  {
   "cell_type": "code",
   "execution_count": 33,
   "metadata": {},
   "outputs": [
    {
     "data": {
      "text/plain": [
       "'Eric Staal'"
      ]
     },
     "execution_count": 33,
     "metadata": {},
     "output_type": "execute_result"
    }
   ],
   "source": [
    "stats_2013_16.loc[72,'Name']"
   ]
  },
  {
   "cell_type": "code",
   "execution_count": 34,
   "metadata": {},
   "outputs": [
    {
     "data": {
      "text/html": [
       "<div>\n",
       "<style>\n",
       "    .dataframe thead tr:only-child th {\n",
       "        text-align: right;\n",
       "    }\n",
       "\n",
       "    .dataframe thead th {\n",
       "        text-align: left;\n",
       "    }\n",
       "\n",
       "    .dataframe tbody tr th {\n",
       "        vertical-align: top;\n",
       "    }\n",
       "</style>\n",
       "<table border=\"1\" class=\"dataframe\">\n",
       "  <thead>\n",
       "    <tr style=\"text-align: right;\">\n",
       "      <th></th>\n",
       "      <th>PLAYER</th>\n",
       "      <th>AGE</th>\n",
       "      <th>CLAUSE</th>\n",
       "      <th>EXPIRY</th>\n",
       "      <th>SALARY</th>\n",
       "      <th>CAP HIT ▾</th>\n",
       "      <th>year</th>\n",
       "    </tr>\n",
       "  </thead>\n",
       "  <tbody>\n",
       "    <tr>\n",
       "      <th>0</th>\n",
       "      <td>Patrick Kane</td>\n",
       "      <td>28</td>\n",
       "      <td>NMC</td>\n",
       "      <td>UFA</td>\n",
       "      <td>13.80</td>\n",
       "      <td>10.500</td>\n",
       "      <td>2016</td>\n",
       "    </tr>\n",
       "    <tr>\n",
       "      <th>1</th>\n",
       "      <td>Jonathan Toews</td>\n",
       "      <td>29</td>\n",
       "      <td>NMC</td>\n",
       "      <td>UFA</td>\n",
       "      <td>13.80</td>\n",
       "      <td>10.500</td>\n",
       "      <td>2016</td>\n",
       "    </tr>\n",
       "    <tr>\n",
       "      <th>2</th>\n",
       "      <td>Jason Spezza</td>\n",
       "      <td>34</td>\n",
       "      <td>NMC</td>\n",
       "      <td>UFA</td>\n",
       "      <td>7.50</td>\n",
       "      <td>7.500</td>\n",
       "      <td>2016</td>\n",
       "    </tr>\n",
       "    <tr>\n",
       "      <th>3</th>\n",
       "      <td>Vladimir Tarasenko</td>\n",
       "      <td>25</td>\n",
       "      <td>NaN</td>\n",
       "      <td>UFA</td>\n",
       "      <td>8.00</td>\n",
       "      <td>7.500</td>\n",
       "      <td>2016</td>\n",
       "    </tr>\n",
       "    <tr>\n",
       "      <th>4</th>\n",
       "      <td>Sergei Bobrovsky</td>\n",
       "      <td>28</td>\n",
       "      <td>NaN</td>\n",
       "      <td>UFA</td>\n",
       "      <td>8.50</td>\n",
       "      <td>7.425</td>\n",
       "      <td>2016</td>\n",
       "    </tr>\n",
       "    <tr>\n",
       "      <th>5</th>\n",
       "      <td>Bobby Ryan</td>\n",
       "      <td>30</td>\n",
       "      <td>M-NTC, NMC</td>\n",
       "      <td>UFA</td>\n",
       "      <td>6.50</td>\n",
       "      <td>7.250</td>\n",
       "      <td>2016</td>\n",
       "    </tr>\n",
       "    <tr>\n",
       "      <th>6</th>\n",
       "      <td>David Krejci</td>\n",
       "      <td>31</td>\n",
       "      <td>NMC</td>\n",
       "      <td>UFA</td>\n",
       "      <td>7.25</td>\n",
       "      <td>7.250</td>\n",
       "      <td>2016</td>\n",
       "    </tr>\n",
       "    <tr>\n",
       "      <th>7</th>\n",
       "      <td>Derek Stepan</td>\n",
       "      <td>27</td>\n",
       "      <td>NaN</td>\n",
       "      <td>UFA</td>\n",
       "      <td>8.00</td>\n",
       "      <td>6.500</td>\n",
       "      <td>2016</td>\n",
       "    </tr>\n",
       "    <tr>\n",
       "      <th>8</th>\n",
       "      <td>Braden Holtby</td>\n",
       "      <td>27</td>\n",
       "      <td>NaN</td>\n",
       "      <td>UFA</td>\n",
       "      <td>6.50</td>\n",
       "      <td>6.100</td>\n",
       "      <td>2016</td>\n",
       "    </tr>\n",
       "    <tr>\n",
       "      <th>9</th>\n",
       "      <td>Brandon Saad</td>\n",
       "      <td>24</td>\n",
       "      <td>NaN</td>\n",
       "      <td>UFA</td>\n",
       "      <td>4.00</td>\n",
       "      <td>6.000</td>\n",
       "      <td>2016</td>\n",
       "    </tr>\n",
       "    <tr>\n",
       "      <th>10</th>\n",
       "      <td>Mike Green</td>\n",
       "      <td>31</td>\n",
       "      <td>NTC</td>\n",
       "      <td>UFA</td>\n",
       "      <td>6.00</td>\n",
       "      <td>6.000</td>\n",
       "      <td>2016</td>\n",
       "    </tr>\n",
       "    <tr>\n",
       "      <th>11</th>\n",
       "      <td>Johnny Boychuk</td>\n",
       "      <td>33</td>\n",
       "      <td>NMC</td>\n",
       "      <td>UFA</td>\n",
       "      <td>7.50</td>\n",
       "      <td>6.000</td>\n",
       "      <td>2016</td>\n",
       "    </tr>\n",
       "    <tr>\n",
       "      <th>12</th>\n",
       "      <td>Cory Schneider</td>\n",
       "      <td>31</td>\n",
       "      <td>NTC</td>\n",
       "      <td>UFA</td>\n",
       "      <td>6.00</td>\n",
       "      <td>6.000</td>\n",
       "      <td>2016</td>\n",
       "    </tr>\n",
       "    <tr>\n",
       "      <th>13</th>\n",
       "      <td>Ben Bishop</td>\n",
       "      <td>30</td>\n",
       "      <td>M-NTC, NMC</td>\n",
       "      <td>UFA</td>\n",
       "      <td>5.95</td>\n",
       "      <td>5.950</td>\n",
       "      <td>2016</td>\n",
       "    </tr>\n",
       "    <tr>\n",
       "      <th>14</th>\n",
       "      <td>Brandon Dubinsky</td>\n",
       "      <td>31</td>\n",
       "      <td>NMC</td>\n",
       "      <td>UFA</td>\n",
       "      <td>5.85</td>\n",
       "      <td>5.850</td>\n",
       "      <td>2016</td>\n",
       "    </tr>\n",
       "    <tr>\n",
       "      <th>15</th>\n",
       "      <td>Marc-Andre Fleury</td>\n",
       "      <td>32</td>\n",
       "      <td>M-NTC, NMC</td>\n",
       "      <td>UFA</td>\n",
       "      <td>5.75</td>\n",
       "      <td>5.750</td>\n",
       "      <td>2016</td>\n",
       "    </tr>\n",
       "    <tr>\n",
       "      <th>16</th>\n",
       "      <td>Dougie Hamilton</td>\n",
       "      <td>24</td>\n",
       "      <td>NaN</td>\n",
       "      <td>UFA</td>\n",
       "      <td>5.50</td>\n",
       "      <td>5.750</td>\n",
       "      <td>2016</td>\n",
       "    </tr>\n",
       "    <tr>\n",
       "      <th>17</th>\n",
       "      <td>Marc Staal</td>\n",
       "      <td>30</td>\n",
       "      <td>NMC</td>\n",
       "      <td>UFA</td>\n",
       "      <td>7.00</td>\n",
       "      <td>5.700</td>\n",
       "      <td>2016</td>\n",
       "    </tr>\n",
       "    <tr>\n",
       "      <th>18</th>\n",
       "      <td>Andrej Sekera</td>\n",
       "      <td>31</td>\n",
       "      <td>NMC</td>\n",
       "      <td>UFA</td>\n",
       "      <td>6.50</td>\n",
       "      <td>5.500</td>\n",
       "      <td>2016</td>\n",
       "    </tr>\n",
       "    <tr>\n",
       "      <th>19</th>\n",
       "      <td>Jeff Petry</td>\n",
       "      <td>29</td>\n",
       "      <td>NMC</td>\n",
       "      <td>UFA</td>\n",
       "      <td>7.00</td>\n",
       "      <td>5.500</td>\n",
       "      <td>2016</td>\n",
       "    </tr>\n",
       "  </tbody>\n",
       "</table>\n",
       "</div>"
      ],
      "text/plain": [
       "                PLAYER  AGE      CLAUSE EXPIRY  SALARY  CAP HIT ▾  year\n",
       "0         Patrick Kane   28         NMC    UFA   13.80     10.500  2016\n",
       "1       Jonathan Toews   29         NMC    UFA   13.80     10.500  2016\n",
       "2         Jason Spezza   34         NMC    UFA    7.50      7.500  2016\n",
       "3   Vladimir Tarasenko   25         NaN    UFA    8.00      7.500  2016\n",
       "4     Sergei Bobrovsky   28         NaN    UFA    8.50      7.425  2016\n",
       "5           Bobby Ryan   30  M-NTC, NMC    UFA    6.50      7.250  2016\n",
       "6         David Krejci   31         NMC    UFA    7.25      7.250  2016\n",
       "7         Derek Stepan   27         NaN    UFA    8.00      6.500  2016\n",
       "8        Braden Holtby   27         NaN    UFA    6.50      6.100  2016\n",
       "9         Brandon Saad   24         NaN    UFA    4.00      6.000  2016\n",
       "10          Mike Green   31         NTC    UFA    6.00      6.000  2016\n",
       "11      Johnny Boychuk   33         NMC    UFA    7.50      6.000  2016\n",
       "12      Cory Schneider   31         NTC    UFA    6.00      6.000  2016\n",
       "13          Ben Bishop   30  M-NTC, NMC    UFA    5.95      5.950  2016\n",
       "14    Brandon Dubinsky   31         NMC    UFA    5.85      5.850  2016\n",
       "15   Marc-Andre Fleury   32  M-NTC, NMC    UFA    5.75      5.750  2016\n",
       "16     Dougie Hamilton   24         NaN    UFA    5.50      5.750  2016\n",
       "17          Marc Staal   30         NMC    UFA    7.00      5.700  2016\n",
       "18       Andrej Sekera   31         NMC    UFA    6.50      5.500  2016\n",
       "19          Jeff Petry   29         NMC    UFA    7.00      5.500  2016"
      ]
     },
     "execution_count": 34,
     "metadata": {},
     "output_type": "execute_result"
    }
   ],
   "source": [
    "salary_contract_2017.shape\n",
    "salary_contract_2016.head(20)"
   ]
  },
  {
   "cell_type": "code",
   "execution_count": 35,
   "metadata": {
    "collapsed": true
   },
   "outputs": [],
   "source": [
    "# A.merge(B, left_on='lkey', right_on='rkey', how='outer')"
   ]
  },
  {
   "cell_type": "code",
   "execution_count": 36,
   "metadata": {
    "collapsed": true
   },
   "outputs": [],
   "source": [
    "salary_2017 = salary_contract_2017.merge(stats_2013_16, left_on = 'PLAYER', right_on = 'Name', how = 'inner')\n",
    "salary_2016 = salary_contract_2016.merge(stats_2012_15, left_on = 'PLAYER', right_on = 'Name', how = 'inner')\n",
    "salary_2015 = salary_contract_2015.merge(stats_2011_14, left_on = 'PLAYER', right_on = 'Name', how = 'inner')"
   ]
  },
  {
   "cell_type": "code",
   "execution_count": 37,
   "metadata": {},
   "outputs": [
    {
     "name": "stdout",
     "output_type": "stream",
     "text": [
      "(225, 105)\n",
      "(243, 105)\n",
      "(301, 105)\n"
     ]
    }
   ],
   "source": [
    "print(salary_2015.shape)\n",
    "print(salary_2016.shape)\n",
    "print(salary_2017.shape)"
   ]
  },
  {
   "cell_type": "code",
   "execution_count": 38,
   "metadata": {
    "collapsed": true
   },
   "outputs": [],
   "source": [
    "salary_all=salary_2015.append(salary_2016).append(salary_2017)"
   ]
  },
  {
   "cell_type": "code",
   "execution_count": 39,
   "metadata": {},
   "outputs": [
    {
     "data": {
      "text/html": [
       "<div>\n",
       "<style>\n",
       "    .dataframe thead tr:only-child th {\n",
       "        text-align: right;\n",
       "    }\n",
       "\n",
       "    .dataframe thead th {\n",
       "        text-align: left;\n",
       "    }\n",
       "\n",
       "    .dataframe tbody tr th {\n",
       "        vertical-align: top;\n",
       "    }\n",
       "</style>\n",
       "<table border=\"1\" class=\"dataframe\">\n",
       "  <thead>\n",
       "    <tr style=\"text-align: right;\">\n",
       "      <th></th>\n",
       "      <th>PLAYER</th>\n",
       "      <th>AGE</th>\n",
       "      <th>CLAUSE</th>\n",
       "      <th>EXPIRY</th>\n",
       "      <th>SALARY</th>\n",
       "      <th>CAP HIT ▾</th>\n",
       "      <th>year</th>\n",
       "      <th>Rank</th>\n",
       "      <th>LastName</th>\n",
       "      <th>FirstName</th>\n",
       "      <th>...</th>\n",
       "      <th>IPP</th>\n",
       "      <th>IPPP</th>\n",
       "      <th>TotFO</th>\n",
       "      <th>NZFO</th>\n",
       "      <th>DZFO</th>\n",
       "      <th>OZFO</th>\n",
       "      <th>NZFO%</th>\n",
       "      <th>DZFO%</th>\n",
       "      <th>OZFO%</th>\n",
       "      <th>Name</th>\n",
       "    </tr>\n",
       "  </thead>\n",
       "  <tbody>\n",
       "    <tr>\n",
       "      <th>0</th>\n",
       "      <td>Evgeni Malkin</td>\n",
       "      <td>30</td>\n",
       "      <td>NMC</td>\n",
       "      <td>UFA</td>\n",
       "      <td>9.50</td>\n",
       "      <td>9.500</td>\n",
       "      <td>2015</td>\n",
       "      <td>60</td>\n",
       "      <td>MALKIN</td>\n",
       "      <td>EVGENI</td>\n",
       "      <td>...</td>\n",
       "      <td>81.12</td>\n",
       "      <td>69.23</td>\n",
       "      <td>2228</td>\n",
       "      <td>816</td>\n",
       "      <td>527</td>\n",
       "      <td>885</td>\n",
       "      <td>36.6248</td>\n",
       "      <td>23.6535</td>\n",
       "      <td>39.7217</td>\n",
       "      <td>Evgeni Malkin</td>\n",
       "    </tr>\n",
       "    <tr>\n",
       "      <th>1</th>\n",
       "      <td>P.K. Subban</td>\n",
       "      <td>28</td>\n",
       "      <td>NaN</td>\n",
       "      <td>UFA</td>\n",
       "      <td>7.00</td>\n",
       "      <td>9.000</td>\n",
       "      <td>2015</td>\n",
       "      <td>330</td>\n",
       "      <td>SUBBAN</td>\n",
       "      <td>P.K.</td>\n",
       "      <td>...</td>\n",
       "      <td>33.55</td>\n",
       "      <td>21.05</td>\n",
       "      <td>3572</td>\n",
       "      <td>1376</td>\n",
       "      <td>1149</td>\n",
       "      <td>1047</td>\n",
       "      <td>38.5218</td>\n",
       "      <td>32.1669</td>\n",
       "      <td>29.3113</td>\n",
       "      <td>P.K. Subban</td>\n",
       "    </tr>\n",
       "    <tr>\n",
       "      <th>2</th>\n",
       "      <td>Claude Giroux</td>\n",
       "      <td>29</td>\n",
       "      <td>NaN</td>\n",
       "      <td>UFA</td>\n",
       "      <td>10.00</td>\n",
       "      <td>8.275</td>\n",
       "      <td>2015</td>\n",
       "      <td>223</td>\n",
       "      <td>GIROUX</td>\n",
       "      <td>CLAUDE</td>\n",
       "      <td>...</td>\n",
       "      <td>75.51</td>\n",
       "      <td>57.82</td>\n",
       "      <td>3052</td>\n",
       "      <td>1086</td>\n",
       "      <td>970</td>\n",
       "      <td>996</td>\n",
       "      <td>35.5832</td>\n",
       "      <td>31.7824</td>\n",
       "      <td>32.6343</td>\n",
       "      <td>Claude Giroux</td>\n",
       "    </tr>\n",
       "    <tr>\n",
       "      <th>3</th>\n",
       "      <td>Phil Kessel</td>\n",
       "      <td>29</td>\n",
       "      <td>M-NTC, NMC</td>\n",
       "      <td>UFA</td>\n",
       "      <td>10.00</td>\n",
       "      <td>8.000</td>\n",
       "      <td>2015</td>\n",
       "      <td>758</td>\n",
       "      <td>KESSEL</td>\n",
       "      <td>PHIL</td>\n",
       "      <td>...</td>\n",
       "      <td>78.95</td>\n",
       "      <td>64.91</td>\n",
       "      <td>3174</td>\n",
       "      <td>1129</td>\n",
       "      <td>1075</td>\n",
       "      <td>970</td>\n",
       "      <td>35.5703</td>\n",
       "      <td>33.8689</td>\n",
       "      <td>30.5608</td>\n",
       "      <td>Phil Kessel</td>\n",
       "    </tr>\n",
       "    <tr>\n",
       "      <th>4</th>\n",
       "      <td>Kris Letang</td>\n",
       "      <td>30</td>\n",
       "      <td>M-NTC, NMC</td>\n",
       "      <td>UFA</td>\n",
       "      <td>7.25</td>\n",
       "      <td>7.250</td>\n",
       "      <td>2015</td>\n",
       "      <td>209</td>\n",
       "      <td>LETANG</td>\n",
       "      <td>KRIS</td>\n",
       "      <td>...</td>\n",
       "      <td>43.10</td>\n",
       "      <td>25.86</td>\n",
       "      <td>2007</td>\n",
       "      <td>772</td>\n",
       "      <td>602</td>\n",
       "      <td>633</td>\n",
       "      <td>38.4654</td>\n",
       "      <td>29.9950</td>\n",
       "      <td>31.5396</td>\n",
       "      <td>Kris Letang</td>\n",
       "    </tr>\n",
       "  </tbody>\n",
       "</table>\n",
       "<p>5 rows × 105 columns</p>\n",
       "</div>"
      ],
      "text/plain": [
       "          PLAYER  AGE      CLAUSE EXPIRY  SALARY  CAP HIT ▾  year  Rank  \\\n",
       "0  Evgeni Malkin   30         NMC    UFA    9.50      9.500  2015    60   \n",
       "1    P.K. Subban   28         NaN    UFA    7.00      9.000  2015   330   \n",
       "2  Claude Giroux   29         NaN    UFA   10.00      8.275  2015   223   \n",
       "3    Phil Kessel   29  M-NTC, NMC    UFA   10.00      8.000  2015   758   \n",
       "4    Kris Letang   30  M-NTC, NMC    UFA    7.25      7.250  2015   209   \n",
       "\n",
       "  LastName FirstName      ...          IPP   IPPP  TotFO  NZFO  DZFO  OZFO  \\\n",
       "0   MALKIN    EVGENI      ...        81.12  69.23   2228   816   527   885   \n",
       "1   SUBBAN      P.K.      ...        33.55  21.05   3572  1376  1149  1047   \n",
       "2   GIROUX    CLAUDE      ...        75.51  57.82   3052  1086   970   996   \n",
       "3   KESSEL      PHIL      ...        78.95  64.91   3174  1129  1075   970   \n",
       "4   LETANG      KRIS      ...        43.10  25.86   2007   772   602   633   \n",
       "\n",
       "     NZFO%    DZFO%    OZFO%           Name  \n",
       "0  36.6248  23.6535  39.7217  Evgeni Malkin  \n",
       "1  38.5218  32.1669  29.3113    P.K. Subban  \n",
       "2  35.5832  31.7824  32.6343  Claude Giroux  \n",
       "3  35.5703  33.8689  30.5608    Phil Kessel  \n",
       "4  38.4654  29.9950  31.5396    Kris Letang  \n",
       "\n",
       "[5 rows x 105 columns]"
      ]
     },
     "execution_count": 39,
     "metadata": {},
     "output_type": "execute_result"
    }
   ],
   "source": [
    "salary_all.head()"
   ]
  },
  {
   "cell_type": "code",
   "execution_count": 104,
   "metadata": {},
   "outputs": [],
   "source": [
    "# list(quant_all.columns)"
   ]
  },
  {
   "cell_type": "markdown",
   "metadata": {},
   "source": [
    "##### Extract Quantitative Variable"
   ]
  },
  {
   "cell_type": "code",
   "execution_count": 63,
   "metadata": {
    "collapsed": true
   },
   "outputs": [],
   "source": [
    "quant_all = salary_all.loc[:, (salary_all.dtypes ==int) | (salary_all.dtypes ==float) ]"
   ]
  },
  {
   "cell_type": "code",
   "execution_count": null,
   "metadata": {},
   "outputs": [],
   "source": []
  },
  {
   "cell_type": "code",
   "execution_count": null,
   "metadata": {
    "collapsed": true
   },
   "outputs": [],
   "source": []
  },
  {
   "cell_type": "code",
   "execution_count": null,
   "metadata": {
    "collapsed": true
   },
   "outputs": [],
   "source": []
  },
  {
   "cell_type": "code",
   "execution_count": 64,
   "metadata": {
    "collapsed": true
   },
   "outputs": [],
   "source": [
    "quant_list = list(quant_all.columns)\n",
    "quant_list.remove('CAP HIT ▾')\n",
    "quant_list.remove('SALARY')"
   ]
  },
  {
   "cell_type": "code",
   "execution_count": null,
   "metadata": {
    "collapsed": true
   },
   "outputs": [],
   "source": []
  },
  {
   "cell_type": "code",
   "execution_count": 105,
   "metadata": {
    "collapsed": true
   },
   "outputs": [],
   "source": [
    "y = quant_all['SALARY'].values\n",
    "X = quant_all.drop(['SALARY', 'CAP HIT ▾'], axis = 1).values"
   ]
  },
  {
   "cell_type": "markdown",
   "metadata": {},
   "source": [
    "##### check outliers"
   ]
  },
  {
   "cell_type": "code",
   "execution_count": 106,
   "metadata": {},
   "outputs": [
    {
     "data": {
      "text/plain": [
       "array([], dtype=float64)"
      ]
     },
     "execution_count": 106,
     "metadata": {},
     "output_type": "execute_result"
    }
   ],
   "source": [
    "y[y<0]"
   ]
  },
  {
   "cell_type": "code",
   "execution_count": 107,
   "metadata": {},
   "outputs": [
    {
     "data": {
      "text/plain": [
       "array([], dtype=float64)"
      ]
     },
     "execution_count": 107,
     "metadata": {},
     "output_type": "execute_result"
    }
   ],
   "source": [
    "y[y>14]"
   ]
  },
  {
   "cell_type": "code",
   "execution_count": 108,
   "metadata": {},
   "outputs": [
    {
     "data": {
      "image/png": "[encoded data removed]",
      "text/plain": [
       "<matplotlib.figure.Figure at 0x7fe710531890>"
      ]
     },
     "metadata": {},
     "output_type": "display_data"
    }
   ],
   "source": [
    "plt.hist(y)\n",
    "plt.show()"
   ]
  },
  {
   "cell_type": "code",
   "execution_count": 109,
   "metadata": {
    "collapsed": true
   },
   "outputs": [],
   "source": [
    "from sklearn.model_selection import train_test_split\n",
    "\n",
    "X_train, X_test, y_train, y_test = train_test_split(X, y, test_size=0.25, random_state=40)"
   ]
  },
  {
   "cell_type": "code",
   "execution_count": 110,
   "metadata": {
    "collapsed": true
   },
   "outputs": [],
   "source": [
    "from sklearn.model_selection import cross_val_score"
   ]
  },
  {
   "cell_type": "markdown",
   "metadata": {},
   "source": [
    "### Linear Regression"
   ]
  },
  {
   "cell_type": "code",
   "execution_count": 111,
   "metadata": {},
   "outputs": [
    {
     "data": {
      "text/plain": [
       "1.2840147790922452"
      ]
     },
     "execution_count": 111,
     "metadata": {},
     "output_type": "execute_result"
    }
   ],
   "source": [
    "from sklearn.linear_model import LinearRegression\n",
    "from sklearn.metrics import mean_squared_error\n",
    "\n",
    "lr = LinearRegression(normalize=True)\n",
    "lr_train = lr.fit(X_train, y_train)\n",
    "y_pred = lr.predict(X_test)\n",
    "mean_squared_error(y_test, y_pred)"
   ]
  },
  {
   "cell_type": "code",
   "execution_count": null,
   "metadata": {
    "collapsed": true
   },
   "outputs": [],
   "source": []
  },
  {
   "cell_type": "markdown",
   "metadata": {},
   "source": [
    "### Lasso Regression"
   ]
  },
  {
   "cell_type": "code",
   "execution_count": 112,
   "metadata": {},
   "outputs": [
    {
     "name": "stdout",
     "output_type": "stream",
     "text": [
      "1.2562531755\n",
      "1.25762694679\n",
      "1.26040042931\n",
      "1.28934931087\n",
      "1.29698370309\n",
      "1.29897327262\n",
      "1.34190896468\n",
      "1.5628952159\n",
      "1.67434810244\n",
      "3.23113032242\n",
      "3.51192013938\n",
      "3.51192013938\n"
     ]
    }
   ],
   "source": [
    "from sklearn.linear_model import Lasso\n",
    "\n",
    "for alpha in [ 0.000001, 0.000005, 0.00001, 0.00005, 0.0001, 0.0005, 0.001, 0.005, 0.01, 0.05, 0.1, 0.5]:\n",
    "    lasso = Lasso(normalize=True, alpha=alpha)\n",
    "    lasso_train = lasso.fit(X_train, y_train)\n",
    "    y_pred = lasso_train.predict(X_test)\n",
    "    print mean_squared_error(y_test, y_pred)"
   ]
  },
  {
   "cell_type": "code",
   "execution_count": 113,
   "metadata": {},
   "outputs": [
    {
     "name": "stdout",
     "output_type": "stream",
     "text": [
      "1.34190896468\n"
     ]
    }
   ],
   "source": [
    "lasso = Lasso(normalize=True, alpha=0.001)\n",
    "lasso_train = lasso.fit(X_train, y_train)\n",
    "y_pred = lasso_train.predict(X_test)\n",
    "print mean_squared_error(y_test, y_pred)"
   ]
  },
  {
   "cell_type": "code",
   "execution_count": 114,
   "metadata": {
    "collapsed": true
   },
   "outputs": [],
   "source": [
    "X_small = X[: , lasso_train.coef_ != 0]"
   ]
  },
  {
   "cell_type": "code",
   "execution_count": 116,
   "metadata": {},
   "outputs": [
    {
     "data": {
      "text/plain": [
       "(769, 22)"
      ]
     },
     "execution_count": 116,
     "metadata": {},
     "output_type": "execute_result"
    }
   ],
   "source": [
    "X_small.shape"
   ]
  },
  {
   "cell_type": "code",
   "execution_count": 127,
   "metadata": {},
   "outputs": [
    {
     "name": "stderr",
     "output_type": "stream",
     "text": [
      "/home/tmatsuzawa/anaconda2/lib/python2.7/site-packages/ipykernel_launcher.py:1: DeprecationWarning: \n",
      ".ix is deprecated. Please use\n",
      ".loc for label based indexing or\n",
      ".iloc for positional indexing\n",
      "\n",
      "See the documentation here:\n",
      "http://pandas.pydata.org/pandas-docs/stable/indexing.html#deprecate_ix\n",
      "  \"\"\"Entry point for launching an IPython kernel.\n"
     ]
    },
    {
     "data": {
      "text/plain": [
       "['AGE',\n",
       " 'year',\n",
       " 'GP',\n",
       " 'GF',\n",
       " 'Opp GA60',\n",
       " 'SF',\n",
       " 'Sh%',\n",
       " 'TM Sv%',\n",
       " 'Sv% Rel',\n",
       " 'Opp Sh%',\n",
       " 'CA60 RelTM',\n",
       " 'TM CSh%',\n",
       " 'Opp CSh%',\n",
       " 'Opp CSv%',\n",
       " '%ofTeam OZFO',\n",
       " '%ofTeam DZFO',\n",
       " '%ofTeam NZFO',\n",
       " 'FirstA',\n",
       " 'Pts',\n",
       " 'Pri. Pts',\n",
       " 'iCorsi',\n",
       " 'NZFO']"
      ]
     },
     "execution_count": 127,
     "metadata": {},
     "output_type": "execute_result"
    }
   ],
   "source": [
    "list(quant_all.drop(['SALARY', 'CAP HIT ▾'], axis = 1).ix[:, lasso_train.coef_ != 0].columns)"
   ]
  },
  {
   "cell_type": "markdown",
   "metadata": {},
   "source": [
    "### Deep Learning (All Variables)"
   ]
  },
  {
   "cell_type": "code",
   "execution_count": 117,
   "metadata": {},
   "outputs": [
    {
     "name": "stdout",
     "output_type": "stream",
     "text": [
      "Train on 576 samples, validate on 193 samples\n",
      "Epoch 1/100\n",
      "576/576 [==============================] - 0s - loss: 6.1105 - val_loss: 2.9824\n",
      "Epoch 2/100\n",
      "576/576 [==============================] - 0s - loss: 2.2342 - val_loss: 1.4757\n",
      "Epoch 3/100\n",
      "576/576 [==============================] - 0s - loss: 1.6431 - val_loss: 1.3245\n",
      "Epoch 4/100\n",
      "576/576 [==============================] - 0s - loss: 1.4745 - val_loss: 1.2919\n",
      "Epoch 5/100\n",
      "576/576 [==============================] - 0s - loss: 1.3753 - val_loss: 1.2839\n",
      "Epoch 6/100\n",
      "576/576 [==============================] - 0s - loss: 1.3148 - val_loss: 1.2561\n",
      "Epoch 7/100\n",
      "576/576 [==============================] - 0s - loss: 1.2795 - val_loss: 1.2311\n",
      "Epoch 8/100\n",
      "576/576 [==============================] - 0s - loss: 1.2418 - val_loss: 1.2610\n",
      "Epoch 9/100\n",
      "576/576 [==============================] - 0s - loss: 1.2056 - val_loss: 1.2328\n",
      "Epoch 10/100\n",
      "576/576 [==============================] - 0s - loss: 1.1816 - val_loss: 1.2267\n",
      "Epoch 11/100\n",
      "576/576 [==============================] - 0s - loss: 1.1656 - val_loss: 1.2203\n",
      "Epoch 12/100\n",
      "576/576 [==============================] - 0s - loss: 1.1367 - val_loss: 1.2199\n",
      "Epoch 13/100\n",
      "576/576 [==============================] - 0s - loss: 1.1220 - val_loss: 1.2269\n",
      "Epoch 14/100\n",
      "576/576 [==============================] - 0s - loss: 1.1049 - val_loss: 1.2230\n",
      "Epoch 15/100\n",
      "576/576 [==============================] - 0s - loss: 1.0859 - val_loss: 1.2056\n",
      "Epoch 16/100\n",
      "576/576 [==============================] - 0s - loss: 1.0767 - val_loss: 1.2258\n",
      "Epoch 17/100\n",
      "576/576 [==============================] - 0s - loss: 1.0575 - val_loss: 1.2036\n",
      "Epoch 18/100\n",
      "576/576 [==============================] - 0s - loss: 1.0431 - val_loss: 1.2114\n",
      "Epoch 19/100\n",
      "576/576 [==============================] - 0s - loss: 1.0384 - val_loss: 1.2034\n",
      "Epoch 20/100\n",
      "576/576 [==============================] - 0s - loss: 1.0232 - val_loss: 1.2145\n",
      "Epoch 21/100\n",
      "576/576 [==============================] - 0s - loss: 1.0214 - val_loss: 1.1899\n",
      "Epoch 22/100\n",
      "576/576 [==============================] - 0s - loss: 0.9965 - val_loss: 1.2009\n",
      "Epoch 23/100\n",
      "576/576 [==============================] - 0s - loss: 0.9915 - val_loss: 1.1990\n",
      "Epoch 24/100\n",
      "576/576 [==============================] - 0s - loss: 0.9841 - val_loss: 1.1989\n",
      "Epoch 25/100\n",
      "576/576 [==============================] - 0s - loss: 0.9677 - val_loss: 1.1862\n",
      "Epoch 26/100\n",
      "576/576 [==============================] - 0s - loss: 0.9552 - val_loss: 1.2018\n",
      "Epoch 27/100\n",
      "576/576 [==============================] - ETA: 0s - loss: 0.818 - 0s - loss: 0.9510 - val_loss: 1.1820\n",
      "Epoch 28/100\n",
      "576/576 [==============================] - 0s - loss: 0.9369 - val_loss: 1.1820\n",
      "Epoch 29/100\n",
      "576/576 [==============================] - 0s - loss: 0.9435 - val_loss: 1.1830\n",
      "Epoch 30/100\n",
      "576/576 [==============================] - 0s - loss: 0.9206 - val_loss: 1.1636\n",
      "Epoch 31/100\n",
      "576/576 [==============================] - 0s - loss: 0.9084 - val_loss: 1.1794\n",
      "Epoch 32/100\n",
      "576/576 [==============================] - 0s - loss: 0.9003 - val_loss: 1.1758\n",
      "Epoch 33/100\n",
      "576/576 [==============================] - 0s - loss: 0.8877 - val_loss: 1.1732\n",
      "Epoch 34/100\n",
      "576/576 [==============================] - 0s - loss: 0.8821 - val_loss: 1.1738\n",
      "Epoch 35/100\n",
      "576/576 [==============================] - 0s - loss: 0.8797 - val_loss: 1.1532\n",
      "Epoch 36/100\n",
      "576/576 [==============================] - 0s - loss: 0.8659 - val_loss: 1.1709\n",
      "Epoch 37/100\n",
      "576/576 [==============================] - 0s - loss: 0.8531 - val_loss: 1.1695\n",
      "Epoch 38/100\n",
      "576/576 [==============================] - 0s - loss: 0.8528 - val_loss: 1.1732\n",
      "Epoch 39/100\n",
      "576/576 [==============================] - 0s - loss: 0.8437 - val_loss: 1.1652\n",
      "Epoch 40/100\n",
      "576/576 [==============================] - 0s - loss: 0.8293 - val_loss: 1.1648\n",
      "Epoch 41/100\n",
      "576/576 [==============================] - 0s - loss: 0.8381 - val_loss: 1.1731\n",
      "1.17313504846\n"
     ]
    }
   ],
   "source": [
    "from sklearn.preprocessing import StandardScaler\n",
    "scaler = StandardScaler().fit(X_train)\n",
    "standardized_X_train = scaler.transform(X_train)\n",
    "standardized_X_test = scaler.transform(X_test)\n",
    "standardized_X_train.shape\n",
    "\n",
    "import numpy as np\n",
    "from keras.models import Sequential\n",
    "from keras.layers import Dense\n",
    "from keras.callbacks import EarlyStopping\n",
    "\n",
    "model = Sequential()\n",
    "model.add(Dense(32, activation='relu', input_dim=standardized_X_train.shape[1]))\n",
    "# model.add(Dense(16, activation='relu', input_dim=96))\n",
    "model.add(Dense(1, activation='linear'))\n",
    "early_stopping_monitor = EarlyStopping(patience=5)\n",
    "model.compile(optimizer='adam', loss='mean_squared_error')\n",
    "model.fit(standardized_X_train, y_train, validation_data= (standardized_X_test, y_test), epochs=100, batch_size=32, callbacks=[early_stopping_monitor])\n",
    "y_pred = model.predict(standardized_X_test)\n",
    "print mean_squared_error(y_test, y_pred)"
   ]
  },
  {
   "cell_type": "code",
   "execution_count": null,
   "metadata": {
    "collapsed": true
   },
   "outputs": [],
   "source": []
  },
  {
   "cell_type": "markdown",
   "metadata": {
    "collapsed": true
   },
   "source": [
    "### Deep Learning (small variables)"
   ]
  },
  {
   "cell_type": "markdown",
   "metadata": {},
   "source": [
    "#### Only use significant vairiables based on lasso regression"
   ]
  },
  {
   "cell_type": "code",
   "execution_count": 118,
   "metadata": {
    "collapsed": true
   },
   "outputs": [],
   "source": [
    "X_small_train, X_small_test, y_train, y_test = train_test_split(X_small, y, test_size=0.25, random_state=40)"
   ]
  },
  {
   "cell_type": "code",
   "execution_count": null,
   "metadata": {},
   "outputs": [],
   "source": []
  },
  {
   "cell_type": "code",
   "execution_count": 119,
   "metadata": {},
   "outputs": [
    {
     "name": "stdout",
     "output_type": "stream",
     "text": [
      "Train on 576 samples, validate on 193 samples\n",
      "Epoch 1/150\n",
      "576/576 [==============================] - 0s - loss: 8.9713 - val_loss: 6.6537\n",
      "Epoch 2/150\n",
      "576/576 [==============================] - 0s - loss: 6.2749 - val_loss: 4.6781\n",
      "Epoch 3/150\n",
      "576/576 [==============================] - 0s - loss: 4.2542 - val_loss: 3.2197\n",
      "Epoch 4/150\n",
      "576/576 [==============================] - 0s - loss: 2.8510 - val_loss: 2.2218\n",
      "Epoch 5/150\n",
      "576/576 [==============================] - 0s - loss: 1.9577 - val_loss: 1.6952\n",
      "Epoch 6/150\n",
      "576/576 [==============================] - 0s - loss: 1.5426 - val_loss: 1.5031\n",
      "Epoch 7/150\n",
      "576/576 [==============================] - 0s - loss: 1.4128 - val_loss: 1.4426\n",
      "Epoch 8/150\n",
      "576/576 [==============================] - 0s - loss: 1.3683 - val_loss: 1.4178\n",
      "Epoch 9/150\n",
      "576/576 [==============================] - 0s - loss: 1.3429 - val_loss: 1.4076\n",
      "Epoch 10/150\n",
      "576/576 [==============================] - 0s - loss: 1.3173 - val_loss: 1.3916\n",
      "Epoch 11/150\n",
      "576/576 [==============================] - 0s - loss: 1.2967 - val_loss: 1.3825\n",
      "Epoch 12/150\n",
      "576/576 [==============================] - 0s - loss: 1.2743 - val_loss: 1.3679\n",
      "Epoch 13/150\n",
      "576/576 [==============================] - 0s - loss: 1.2628 - val_loss: 1.3531\n",
      "Epoch 14/150\n",
      "576/576 [==============================] - 0s - loss: 1.2403 - val_loss: 1.3439\n",
      "Epoch 15/150\n",
      "576/576 [==============================] - 0s - loss: 1.2256 - val_loss: 1.3341\n",
      "Epoch 16/150\n",
      "576/576 [==============================] - 0s - loss: 1.2089 - val_loss: 1.3232\n",
      "Epoch 17/150\n",
      "576/576 [==============================] - 0s - loss: 1.1987 - val_loss: 1.3111\n",
      "Epoch 18/150\n",
      "576/576 [==============================] - 0s - loss: 1.1853 - val_loss: 1.3117\n",
      "Epoch 19/150\n",
      "576/576 [==============================] - 0s - loss: 1.1709 - val_loss: 1.2932\n",
      "Epoch 20/150\n",
      "576/576 [==============================] - 0s - loss: 1.1625 - val_loss: 1.2844\n",
      "Epoch 21/150\n",
      "576/576 [==============================] - 0s - loss: 1.1482 - val_loss: 1.2759\n",
      "Epoch 22/150\n",
      "576/576 [==============================] - 0s - loss: 1.1356 - val_loss: 1.2719\n",
      "Epoch 23/150\n",
      "576/576 [==============================] - 0s - loss: 1.1289 - val_loss: 1.2604\n",
      "Epoch 24/150\n",
      "576/576 [==============================] - 0s - loss: 1.1176 - val_loss: 1.2499\n",
      "Epoch 25/150\n",
      "576/576 [==============================] - 0s - loss: 1.1077 - val_loss: 1.2546\n",
      "Epoch 26/150\n",
      "576/576 [==============================] - 0s - loss: 1.0942 - val_loss: 1.2453\n",
      "Epoch 27/150\n",
      "576/576 [==============================] - 0s - loss: 1.0867 - val_loss: 1.2330\n",
      "Epoch 28/150\n",
      "576/576 [==============================] - 0s - loss: 1.0773 - val_loss: 1.2288\n",
      "Epoch 29/150\n",
      "576/576 [==============================] - 0s - loss: 1.0729 - val_loss: 1.2220\n",
      "Epoch 30/150\n",
      "576/576 [==============================] - 0s - loss: 1.0574 - val_loss: 1.2195\n",
      "Epoch 31/150\n",
      "576/576 [==============================] - 0s - loss: 1.0537 - val_loss: 1.2081\n",
      "Epoch 32/150\n",
      "576/576 [==============================] - 0s - loss: 1.0456 - val_loss: 1.2106\n",
      "Epoch 33/150\n",
      "576/576 [==============================] - 0s - loss: 1.0381 - val_loss: 1.1974\n",
      "Epoch 34/150\n",
      "576/576 [==============================] - 0s - loss: 1.0267 - val_loss: 1.1965\n",
      "Epoch 35/150\n",
      "576/576 [==============================] - 0s - loss: 1.0217 - val_loss: 1.1942\n",
      "Epoch 36/150\n",
      "576/576 [==============================] - 0s - loss: 1.0214 - val_loss: 1.1901\n",
      "Epoch 37/150\n",
      "576/576 [==============================] - 0s - loss: 1.0035 - val_loss: 1.1856\n",
      "Epoch 38/150\n",
      "576/576 [==============================] - 0s - loss: 1.0039 - val_loss: 1.1814\n",
      "Epoch 39/150\n",
      "576/576 [==============================] - 0s - loss: 0.9936 - val_loss: 1.1812\n",
      "Epoch 40/150\n",
      "576/576 [==============================] - 0s - loss: 0.9864 - val_loss: 1.1749\n",
      "Epoch 41/150\n",
      "576/576 [==============================] - 0s - loss: 0.9888 - val_loss: 1.1717\n",
      "Epoch 42/150\n",
      "576/576 [==============================] - 0s - loss: 0.9738 - val_loss: 1.1625\n",
      "Epoch 43/150\n",
      "576/576 [==============================] - 0s - loss: 0.9720 - val_loss: 1.1616\n",
      "Epoch 44/150\n",
      "576/576 [==============================] - 0s - loss: 0.9585 - val_loss: 1.1613\n",
      "Epoch 45/150\n",
      "576/576 [==============================] - 0s - loss: 0.9562 - val_loss: 1.1670\n",
      "Epoch 46/150\n",
      "576/576 [==============================] - 0s - loss: 0.9472 - val_loss: 1.1551\n",
      "Epoch 47/150\n",
      "576/576 [==============================] - 0s - loss: 0.9445 - val_loss: 1.1498\n",
      "Epoch 48/150\n",
      "576/576 [==============================] - 0s - loss: 0.9344 - val_loss: 1.1529\n",
      "Epoch 49/150\n",
      "576/576 [==============================] - 0s - loss: 0.9319 - val_loss: 1.1473\n",
      "Epoch 50/150\n",
      "576/576 [==============================] - 0s - loss: 0.9252 - val_loss: 1.1498\n",
      "Epoch 51/150\n",
      "576/576 [==============================] - 0s - loss: 0.9258 - val_loss: 1.1375\n",
      "Epoch 52/150\n",
      "576/576 [==============================] - 0s - loss: 0.9129 - val_loss: 1.1387\n",
      "Epoch 53/150\n",
      "576/576 [==============================] - 0s - loss: 0.9098 - val_loss: 1.1429\n",
      "Epoch 54/150\n",
      "576/576 [==============================] - 0s - loss: 0.9053 - val_loss: 1.1351\n",
      "Epoch 55/150\n",
      "576/576 [==============================] - 0s - loss: 0.8991 - val_loss: 1.1381\n",
      "Epoch 56/150\n",
      "576/576 [==============================] - 0s - loss: 0.8936 - val_loss: 1.1347\n",
      "Epoch 57/150\n",
      "576/576 [==============================] - 0s - loss: 0.9032 - val_loss: 1.1367\n",
      "Epoch 58/150\n",
      "576/576 [==============================] - 0s - loss: 0.8918 - val_loss: 1.1387\n",
      "Epoch 59/150\n",
      "576/576 [==============================] - 0s - loss: 0.8784 - val_loss: 1.1319\n",
      "Epoch 60/150\n",
      "576/576 [==============================] - 0s - loss: 0.8721 - val_loss: 1.1279\n",
      "Epoch 61/150\n",
      "576/576 [==============================] - 0s - loss: 0.8691 - val_loss: 1.1271\n",
      "Epoch 62/150\n",
      "576/576 [==============================] - 0s - loss: 0.8632 - val_loss: 1.1226\n",
      "Epoch 63/150\n",
      "576/576 [==============================] - 0s - loss: 0.8627 - val_loss: 1.1285\n",
      "Epoch 64/150\n",
      "576/576 [==============================] - 0s - loss: 0.8559 - val_loss: 1.1267\n",
      "Epoch 65/150\n",
      "576/576 [==============================] - 0s - loss: 0.8498 - val_loss: 1.1262\n",
      "Epoch 66/150\n",
      "576/576 [==============================] - 0s - loss: 0.8462 - val_loss: 1.1250\n",
      "Epoch 67/150\n",
      "576/576 [==============================] - 0s - loss: 0.8434 - val_loss: 1.1257\n",
      "Epoch 68/150\n",
      "576/576 [==============================] - 0s - loss: 0.8384 - val_loss: 1.1240\n",
      "1.12399059017\n"
     ]
    }
   ],
   "source": [
    "from sklearn.preprocessing import StandardScaler\n",
    "scaler = StandardScaler().fit(X_small_train)\n",
    "standardized_X_train = scaler.transform(X_small_train)\n",
    "standardized_X_test = scaler.transform(X_small_test)\n",
    "standardized_X_train.shape\n",
    "\n",
    "import numpy as np\n",
    "from keras.models import Sequential\n",
    "from keras.layers import Dense\n",
    "from keras.callbacks import EarlyStopping\n",
    "\n",
    "model = Sequential()\n",
    "model.add(Dense(32, activation='relu', input_dim=X_small.shape[1]))\n",
    "# model.add(Dense(16, activation='relu', input_dim=96))\n",
    "model.add(Dense(1, activation='linear'))\n",
    "early_stopping_monitor = EarlyStopping(patience=5)\n",
    "model.compile(optimizer='adam', loss='mean_squared_error')\n",
    "model.fit(standardized_X_train, y_train, validation_data= (standardized_X_test, y_test), epochs=150, batch_size=32, callbacks=[early_stopping_monitor])\n",
    "y_pred = model.predict(standardized_X_test)\n",
    "print mean_squared_error(y_test, y_pred)"
   ]
  },
  {
   "cell_type": "code",
   "execution_count": null,
   "metadata": {
    "collapsed": true
   },
   "outputs": [],
   "source": []
  },
  {
   "cell_type": "code",
   "execution_count": null,
   "metadata": {
    "collapsed": true
   },
   "outputs": [],
   "source": []
  },
  {
   "cell_type": "code",
   "execution_count": null,
   "metadata": {
    "collapsed": true
   },
   "outputs": [],
   "source": []
  }
 ],
 "metadata": {
  "kernelspec": {
   "display_name": "Python 2",
   "language": "python",
   "name": "python2"
  },
  "language_info": {
   "codemirror_mode": {
    "name": "ipython",
    "version": 2
   },
   "file_extension": ".py",
   "mimetype": "text/x-python",
   "name": "python",
   "nbconvert_exporter": "python",
   "pygments_lexer": "ipython2",
   "version": "2.7.13"
  }
 },
 "nbformat": 4,
 "nbformat_minor": 2
}
