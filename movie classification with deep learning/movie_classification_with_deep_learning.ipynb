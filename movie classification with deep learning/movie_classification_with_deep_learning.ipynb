{
 "cells": [
  {
   "cell_type": "markdown",
   "metadata": {},
   "source": [
    "## Movie Classification with Deep Learning"
   ]
  },
  {
   "cell_type": "markdown",
   "metadata": {
    "collapsed": true
   },
   "source": [
    "Dataset of 25,000 movies reviews from IMDB, labeled by sentiment (positive/negative). \n",
    "\n",
    "I only consider the top 50,000 most common words. \n",
    "\n",
    "The best accuarcy is 86.72% in validation set."
   ]
  },
  {
   "cell_type": "markdown",
   "metadata": {},
   "source": [
    "### Import Necessary Modules"
   ]
  },
  {
   "cell_type": "code",
   "execution_count": 8,
   "metadata": {},
   "outputs": [],
   "source": [
    "import numpy\n",
    "from keras.datasets import imdb\n",
    "from keras.models import Sequential\n",
    "from keras.layers import Dense\n",
    "from keras.layers import LSTM\n",
    "from keras.layers.embeddings import Embedding\n",
    "from keras.preprocessing import sequence\n",
    "# fix random seed for reproducibility\n",
    "numpy.random.seed(7)\n",
    "\n",
    "import pandas as pd\n",
    "from keras.layers.convolutional import Conv1D\n",
    "from keras.layers.convolutional import MaxPooling1D\n",
    "from keras.layers.embeddings import Embedding\n",
    "from keras.layers import Dropout\n",
    "import matplotlib.pyplot as plt\n",
    "from keras.layers import Dropout"
   ]
  },
  {
   "cell_type": "code",
   "execution_count": null,
   "metadata": {},
   "outputs": [],
   "source": []
  },
  {
   "cell_type": "code",
   "execution_count": 7,
   "metadata": {},
   "outputs": [
    {
     "name": "stdout",
     "output_type": "stream",
     "text": [
      "_________________________________________________________________\n",
      "Layer (type)                 Output Shape              Param #   \n",
      "=================================================================\n",
      "embedding_2 (Embedding)      (None, 500, 32)           1600000   \n",
      "_________________________________________________________________\n",
      "lstm_2 (LSTM)                (None, 100)               53200     \n",
      "_________________________________________________________________\n",
      "dense_2 (Dense)              (None, 1)                 101       \n",
      "=================================================================\n",
      "Total params: 1,653,301\n",
      "Trainable params: 1,653,301\n",
      "Non-trainable params: 0\n",
      "_________________________________________________________________\n",
      "None\n",
      "Train on 25000 samples, validate on 25000 samples\n",
      "Epoch 1/10\n",
      "25000/25000 [==============================] - 997s - loss: 0.5070 - acc: 0.7475 - val_loss: 0.3482 - val_acc: 0.8541\n",
      "Epoch 2/10\n",
      "25000/25000 [==============================] - 1009s - loss: 0.3286 - acc: 0.8687 - val_loss: 0.4327 - val_acc: 0.8037\n",
      "Epoch 3/10\n",
      "25000/25000 [==============================] - 1000s - loss: 0.2503 - acc: 0.9051 - val_loss: 0.3889 - val_acc: 0.8382\n",
      "Epoch 4/10\n",
      "25000/25000 [==============================] - 1000s - loss: 0.1934 - acc: 0.9309 - val_loss: 0.4453 - val_acc: 0.8246\n",
      "Epoch 5/10\n",
      "25000/25000 [==============================] - 1003s - loss: 0.1812 - acc: 0.9340 - val_loss: 0.4844 - val_acc: 0.8356\n",
      "Epoch 6/10\n",
      "25000/25000 [==============================] - 1001s - loss: 0.1309 - acc: 0.9551 - val_loss: 0.5069 - val_acc: 0.8390\n",
      "Epoch 7/10\n",
      "25000/25000 [==============================] - 996s - loss: 0.1128 - acc: 0.9616 - val_loss: 0.5153 - val_acc: 0.8359\n",
      "Epoch 8/10\n",
      "25000/25000 [==============================] - 1002s - loss: 0.0886 - acc: 0.9695 - val_loss: 0.5761 - val_acc: 0.8171\n",
      "Epoch 9/10\n",
      "25000/25000 [==============================] - 1004s - loss: 0.0638 - acc: 0.9790 - val_loss: 0.6531 - val_acc: 0.8313\n",
      "Epoch 10/10\n",
      "25000/25000 [==============================] - 1001s - loss: 0.1205 - acc: 0.9527 - val_loss: 0.5489 - val_acc: 0.8072\n",
      "Accuracy: 80.72%\n"
     ]
    },
    {
     "data": {
      "image/png": "[encoded data removed]",
      "text/plain": [
       "<matplotlib.figure.Figure at 0x7f26c4067450>"
      ]
     },
     "metadata": {},
     "output_type": "display_data"
    }
   ],
   "source": [
    "# Top most frequent words to consider\n",
    "top_words = 50000\n",
    "(X_train, y_train), (X_test, y_test) =  imdb.load_data(num_words = top_words)\n",
    "\n",
    "# truncate and pad input sequences\n",
    "max_review_length = 500\n",
    "X_train = sequence.pad_sequences(X_train, maxlen=max_review_length)\n",
    "X_test = sequence.pad_sequences(X_test, maxlen=max_review_length)\n",
    "\n",
    "\n",
    "\n",
    "embedding_vecor_length = 32\n",
    "model = Sequential()\n",
    "model.add(Embedding(top_words, embedding_vecor_length, input_length=max_review_length))\n",
    "model.add(LSTM(100, dropout=0.2, recurrent_dropout=0.2))\n",
    "model.add(Dense(1, activation='sigmoid'))\n",
    "model.compile(loss='binary_crossentropy', optimizer='adam', metrics=['accuracy'])\n",
    "print(model.summary())\n",
    "\n",
    "\n",
    "hist = model.fit(X_train, y_train, validation_data=(X_test, y_test) , epochs=10, batch_size=64)\n",
    "# Final evaluation of the model\n",
    "scores = model.evaluate(X_test, y_test, verbose=0)\n",
    "print(\"Accuracy: %.2f%%\" % (scores[1]*100))\n",
    "\n",
    "\n",
    "#display loss \n",
    "f=plt.figure()\n",
    "plt.plot(hist.history['loss'], linewidth=3, label='train')\n",
    "plt.plot(hist.history['val_loss'], linewidth=3, label='valid')\n",
    "plt.grid()\n",
    "plt.legend()\n",
    "plt.xlabel('epoch')\n",
    "plt.ylabel('loss')\n",
    "plt.yscale('log')\n",
    "plt.show()"
   ]
  },
  {
   "cell_type": "markdown",
   "metadata": {},
   "source": [
    "### More Complicated Neural Network"
   ]
  },
  {
   "cell_type": "markdown",
   "metadata": {},
   "source": [
    "Make models more complicated in order to increase acuracy"
   ]
  },
  {
   "cell_type": "code",
   "execution_count": 22,
   "metadata": {},
   "outputs": [
    {
     "name": "stdout",
     "output_type": "stream",
     "text": [
      "_________________________________________________________________\n",
      "Layer (type)                 Output Shape              Param #   \n",
      "=================================================================\n",
      "embedding_4 (Embedding)      (None, 500, 32)           1600000   \n",
      "_________________________________________________________________\n",
      "conv1d_4 (Conv1D)            (None, 500, 32)           2080      \n",
      "_________________________________________________________________\n",
      "max_pooling1d_4 (MaxPooling1 (None, 250, 32)           0         \n",
      "_________________________________________________________________\n",
      "lstm_5 (LSTM)                (None, 100)               53200     \n",
      "_________________________________________________________________\n",
      "dense_4 (Dense)              (None, 5)                 505       \n",
      "_________________________________________________________________\n",
      "dense_5 (Dense)              (None, 1)                 6         \n",
      "=================================================================\n",
      "Total params: 1,655,791\n",
      "Trainable params: 1,655,791\n",
      "Non-trainable params: 0\n",
      "_________________________________________________________________\n",
      "None\n",
      "Train on 25000 samples, validate on 25000 samples\n",
      "Epoch 1/10\n",
      "25000/25000 [==============================] - 252s - loss: 0.4778 - acc: 0.7600 - val_loss: 0.3597 - val_acc: 0.8486\n",
      "Epoch 2/10\n",
      "25000/25000 [==============================] - 252s - loss: 0.2547 - acc: 0.9009 - val_loss: 0.3144 - val_acc: 0.8672\n",
      "Epoch 3/10\n",
      "25000/25000 [==============================] - 249s - loss: 0.1602 - acc: 0.9409 - val_loss: 0.3423 - val_acc: 0.8657\n",
      "Epoch 4/10\n",
      "25000/25000 [==============================] - 261s - loss: 0.1056 - acc: 0.9630 - val_loss: 0.4361 - val_acc: 0.8609\n",
      "Epoch 5/10\n",
      "25000/25000 [==============================] - 253s - loss: 0.0704 - acc: 0.9761 - val_loss: 0.4732 - val_acc: 0.8457\n",
      "Epoch 6/10\n",
      "25000/25000 [==============================] - 248s - loss: 0.0459 - acc: 0.9858 - val_loss: 0.5561 - val_acc: 0.8448\n",
      "Epoch 7/10\n",
      "25000/25000 [==============================] - 248s - loss: 0.0397 - acc: 0.9871 - val_loss: 0.5621 - val_acc: 0.8421\n",
      "Epoch 8/10\n",
      "25000/25000 [==============================] - 248s - loss: 0.0311 - acc: 0.9908 - val_loss: 0.6255 - val_acc: 0.8373\n",
      "Epoch 9/10\n",
      "25000/25000 [==============================] - 249s - loss: 0.0216 - acc: 0.9940 - val_loss: 0.7410 - val_acc: 0.8454\n",
      "Epoch 10/10\n",
      "25000/25000 [==============================] - 249s - loss: 0.0234 - acc: 0.9931 - val_loss: 0.7202 - val_acc: 0.8400\n",
      "Accuracy: 84.00%\n"
     ]
    },
    {
     "data": {
      "image/png": "[encoded data removed]",
      "text/plain": [
       "<matplotlib.figure.Figure at 0x7fc43580bf90>"
      ]
     },
     "metadata": {},
     "output_type": "display_data"
    }
   ],
   "source": [
    "# truncate and pad input sequences\n",
    "max_review_length = 500\n",
    "X_train = sequence.pad_sequences(X_train, maxlen=max_review_length)\n",
    "X_test = sequence.pad_sequences(X_test, maxlen=max_review_length)\n",
    "# create the model\n",
    "embedding_vecor_length = 32\n",
    "model = Sequential()\n",
    "model.add(Embedding(top_words, embedding_vecor_length, input_length=max_review_length))\n",
    "model.add(Conv1D(filters=32, kernel_size=2, padding='same', activation='relu'))\n",
    "model.add(MaxPooling1D(pool_size=2))\n",
    "model.add(LSTM(100, dropout=0.2, recurrent_dropout=0.2))\n",
    "model.add(Dense(5, activation='relu'))\n",
    "model.add(Dense(1, activation='sigmoid'))\n",
    "\n",
    "\n",
    "model.compile(loss='binary_crossentropy', optimizer='adam', metrics=['accuracy'])\n",
    "print(model.summary())\n",
    "hist = model.fit(X_train, y_train, validation_data=(X_test, y_test) , epochs=10, batch_size=64)\n",
    "# Final evaluation of the model\n",
    "scores = model.evaluate(X_test, y_test, verbose=0)\n",
    "print(\"Accuracy: %.2f%%\" % (scores[1]*100))\n",
    "\n",
    "\n",
    "#display loss \n",
    "f=plt.figure()\n",
    "plt.plot(hist.history['loss'], linewidth=3, label='train')\n",
    "plt.plot(hist.history['val_loss'], linewidth=3, label='valid')\n",
    "plt.grid()\n",
    "plt.legend()\n",
    "plt.xlabel('epoch')\n",
    "plt.ylabel('loss')\n",
    "plt.yscale('log')\n",
    "plt.show()"
   ]
  },
  {
   "cell_type": "code",
   "execution_count": null,
   "metadata": {
    "collapsed": true
   },
   "outputs": [],
   "source": []
  },
  {
   "cell_type": "markdown",
   "metadata": {},
   "source": [
    "### Convolutional Neural Network with Dropouts"
   ]
  },
  {
   "cell_type": "code",
   "execution_count": 27,
   "metadata": {},
   "outputs": [
    {
     "name": "stdout",
     "output_type": "stream",
     "text": [
      "_________________________________________________________________\n",
      "Layer (type)                 Output Shape              Param #   \n",
      "=================================================================\n",
      "embedding_8 (Embedding)      (None, 500, 32)           1600000   \n",
      "_________________________________________________________________\n",
      "conv1d_6 (Conv1D)            (None, 500, 32)           2080      \n",
      "_________________________________________________________________\n",
      "max_pooling1d_6 (MaxPooling1 (None, 250, 32)           0         \n",
      "_________________________________________________________________\n",
      "lstm_8 (LSTM)                (None, 100)               53200     \n",
      "_________________________________________________________________\n",
      "dense_8 (Dense)              (None, 7)                 707       \n",
      "_________________________________________________________________\n",
      "dropout_1 (Dropout)          (None, 7)                 0         \n",
      "_________________________________________________________________\n",
      "dense_9 (Dense)              (None, 5)                 40        \n",
      "_________________________________________________________________\n",
      "dropout_2 (Dropout)          (None, 5)                 0         \n",
      "_________________________________________________________________\n",
      "dense_10 (Dense)             (None, 1)                 6         \n",
      "=================================================================\n",
      "Total params: 1,656,033\n",
      "Trainable params: 1,656,033\n",
      "Non-trainable params: 0\n",
      "_________________________________________________________________\n",
      "None\n",
      "Train on 25000 samples, validate on 25000 samples\n",
      "Epoch 1/10\n",
      "25000/25000 [==============================] - 247s - loss: 0.5928 - acc: 0.6647 - val_loss: 0.4290 - val_acc: 0.8214\n",
      "Epoch 2/10\n",
      "25000/25000 [==============================] - 246s - loss: 0.3920 - acc: 0.8337 - val_loss: 0.2977 - val_acc: 0.8776\n",
      "Epoch 3/10\n",
      "25000/25000 [==============================] - 245s - loss: 0.2989 - acc: 0.9071 - val_loss: 0.3253 - val_acc: 0.8619\n",
      "Epoch 4/10\n",
      "25000/25000 [==============================] - 246s - loss: 0.2383 - acc: 0.9326 - val_loss: 0.3521 - val_acc: 0.8644\n",
      "Epoch 5/10\n",
      "25000/25000 [==============================] - 247s - loss: 0.1944 - acc: 0.9435 - val_loss: 0.3969 - val_acc: 0.8581\n",
      "Epoch 6/10\n",
      "25000/25000 [==============================] - 246s - loss: 0.1671 - acc: 0.9514 - val_loss: 0.4588 - val_acc: 0.8475\n",
      "Epoch 7/10\n",
      "25000/25000 [==============================] - 247s - loss: 0.1420 - acc: 0.9600 - val_loss: 0.5349 - val_acc: 0.8343\n",
      "Epoch 8/10\n",
      "25000/25000 [==============================] - 247s - loss: 0.1177 - acc: 0.9657 - val_loss: 0.5716 - val_acc: 0.8485\n",
      "Epoch 9/10\n",
      "25000/25000 [==============================] - 246s - loss: 0.1061 - acc: 0.9687 - val_loss: 0.6369 - val_acc: 0.8471\n",
      "Epoch 10/10\n",
      "25000/25000 [==============================] - 248s - loss: 0.1006 - acc: 0.9695 - val_loss: 0.6649 - val_acc: 0.8459\n",
      "Accuracy: 84.59%\n"
     ]
    },
    {
     "data": {
      "image/png": "[encoded data removed]",
      "text/plain": [
       "<matplotlib.figure.Figure at 0x7fc4306e29d0>"
      ]
     },
     "metadata": {},
     "output_type": "display_data"
    }
   ],
   "source": [
    "# truncate and pad input sequences\n",
    "max_review_length = 500\n",
    "X_train = sequence.pad_sequences(X_train, maxlen=max_review_length)\n",
    "X_test = sequence.pad_sequences(X_test, maxlen=max_review_length)\n",
    "# create the model\n",
    "embedding_vecor_length = 32\n",
    "model = Sequential()\n",
    "model.add(Embedding(top_words, embedding_vecor_length, input_length=max_review_length))\n",
    "model.add(Conv1D(filters=32, kernel_size=2, padding='same', activation='relu'))\n",
    "model.add(MaxPooling1D(pool_size=2))\n",
    "model.add(LSTM(100, dropout=0.2, recurrent_dropout=0.2))\n",
    "model.add(Dense(7, activation='relu'))\n",
    "model.add(Dropout(0.2))\n",
    "model.add(Dense(5, activation='relu'))\n",
    "model.add(Dropout(0.2))\n",
    "model.add(Dense(1, activation='sigmoid'))\n",
    "\n",
    "\n",
    "model.compile(loss='binary_crossentropy', optimizer='adam', metrics=['accuracy'])\n",
    "print(model.summary())\n",
    "hist = model.fit(X_train, y_train, validation_data=(X_test, y_test) , epochs=10, batch_size=64)\n",
    "# Final evaluation of the model\n",
    "scores = model.evaluate(X_test, y_test, verbose=0)\n",
    "print(\"Accuracy: %.2f%%\" % (scores[1]*100))\n",
    "\n",
    "\n",
    "#display loss \n",
    "f=plt.figure()\n",
    "plt.plot(hist.history['loss'], linewidth=3, label='train')\n",
    "plt.plot(hist.history['val_loss'], linewidth=3, label='valid')\n",
    "plt.grid()\n",
    "plt.legend()\n",
    "plt.xlabel('epoch')\n",
    "plt.ylabel('loss')\n",
    "plt.yscale('log')\n",
    "plt.show()"
   ]
  },
  {
   "cell_type": "code",
   "execution_count": null,
   "metadata": {
    "collapsed": true
   },
   "outputs": [],
   "source": []
  },
  {
   "cell_type": "code",
   "execution_count": null,
   "metadata": {
    "collapsed": true
   },
   "outputs": [],
   "source": []
  },
  {
   "cell_type": "code",
   "execution_count": 9,
   "metadata": {},
   "outputs": [
    {
     "name": "stdout",
     "output_type": "stream",
     "text": [
      "_________________________________________________________________\n",
      "Layer (type)                 Output Shape              Param #   \n",
      "=================================================================\n",
      "embedding_3 (Embedding)      (None, 500, 32)           1600000   \n",
      "_________________________________________________________________\n",
      "conv1d_1 (Conv1D)            (None, 500, 32)           2080      \n",
      "_________________________________________________________________\n",
      "max_pooling1d_1 (MaxPooling1 (None, 250, 32)           0         \n",
      "_________________________________________________________________\n",
      "lstm_3 (LSTM)                (None, 150)               109800    \n",
      "_________________________________________________________________\n",
      "dense_3 (Dense)              (None, 9)                 1359      \n",
      "_________________________________________________________________\n",
      "dropout_1 (Dropout)          (None, 9)                 0         \n",
      "_________________________________________________________________\n",
      "dense_4 (Dense)              (None, 7)                 70        \n",
      "_________________________________________________________________\n",
      "dropout_2 (Dropout)          (None, 7)                 0         \n",
      "_________________________________________________________________\n",
      "dense_5 (Dense)              (None, 5)                 40        \n",
      "_________________________________________________________________\n",
      "dropout_3 (Dropout)          (None, 5)                 0         \n",
      "_________________________________________________________________\n",
      "dense_6 (Dense)              (None, 1)                 6         \n",
      "=================================================================\n",
      "Total params: 1,713,355\n",
      "Trainable params: 1,713,355\n",
      "Non-trainable params: 0\n",
      "_________________________________________________________________\n",
      "None\n",
      "Train on 25000 samples, validate on 25000 samples\n",
      "Epoch 1/10\n",
      "25000/25000 [==============================] - 999s - loss: 0.5924 - acc: 0.7061 - val_loss: 0.4532 - val_acc: 0.8324\n",
      "Epoch 2/10\n",
      "25000/25000 [==============================] - 999s - loss: 0.4008 - acc: 0.8443 - val_loss: 0.3770 - val_acc: 0.8462\n",
      "Epoch 3/10\n",
      "25000/25000 [==============================] - 1000s - loss: 0.2803 - acc: 0.9009 - val_loss: 0.3545 - val_acc: 0.8542\n",
      "Epoch 4/10\n",
      "25000/25000 [==============================] - 999s - loss: 0.2010 - acc: 0.9323 - val_loss: 0.3558 - val_acc: 0.8548\n",
      "Epoch 5/10\n",
      "25000/25000 [==============================] - 947s - loss: 0.1503 - acc: 0.9538 - val_loss: 0.4600 - val_acc: 0.8135\n",
      "Epoch 6/10\n",
      "25000/25000 [==============================] - 997s - loss: 0.1134 - acc: 0.9671 - val_loss: 0.4973 - val_acc: 0.8480\n",
      "Epoch 7/10\n",
      "25000/25000 [==============================] - 990s - loss: 0.0854 - acc: 0.9775 - val_loss: 0.5649 - val_acc: 0.8574\n",
      "Epoch 8/10\n",
      "25000/25000 [==============================] - 1007s - loss: 0.0721 - acc: 0.9812 - val_loss: 0.7231 - val_acc: 0.8510\n",
      "Epoch 9/10\n",
      "25000/25000 [==============================] - 974s - loss: 0.0590 - acc: 0.9854 - val_loss: 0.6304 - val_acc: 0.8449\n",
      "Epoch 10/10\n",
      "25000/25000 [==============================] - 954s - loss: 0.0533 - acc: 0.9857 - val_loss: 0.7942 - val_acc: 0.8349\n",
      "Accuracy: 83.49%\n"
     ]
    },
    {
     "data": {
      "image/png": "[encoded data removed]",
      "text/plain": [
       "<matplotlib.figure.Figure at 0x7f25fc933e50>"
      ]
     },
     "metadata": {},
     "output_type": "display_data"
    }
   ],
   "source": [
    "# truncate and pad input sequences\n",
    "max_review_length = 500\n",
    "X_train = sequence.pad_sequences(X_train, maxlen=max_review_length)\n",
    "X_test = sequence.pad_sequences(X_test, maxlen=max_review_length)\n",
    "# create the model\n",
    "embedding_vecor_length = 32\n",
    "model = Sequential()\n",
    "model.add(Embedding(top_words, embedding_vecor_length, input_length=max_review_length))\n",
    "model.add(Conv1D(filters=32, kernel_size=2, padding='same', activation='relu'))\n",
    "model.add(MaxPooling1D(pool_size=2))\n",
    "model.add(LSTM(150, dropout=0.1, recurrent_dropout=0.2))\n",
    "model.add(Dense(9, activation='relu'))\n",
    "model.add(Dropout(0.1))\n",
    "model.add(Dense(7, activation='relu'))\n",
    "model.add(Dropout(0.1))\n",
    "model.add(Dense(5, activation='relu'))\n",
    "model.add(Dropout(0.1))\n",
    "model.add(Dense(1, activation='sigmoid'))\n",
    "\n",
    "\n",
    "model.compile(loss='binary_crossentropy', optimizer='adam', metrics=['accuracy'])\n",
    "print(model.summary())\n",
    "hist = model.fit(X_train, y_train, validation_data=(X_test, y_test) , epochs=10, batch_size=64)\n",
    "# Final evaluation of the model\n",
    "scores = model.evaluate(X_test, y_test, verbose=0)\n",
    "print(\"Accuracy: %.2f%%\" % (scores[1]*100))\n",
    "\n",
    "\n",
    "#display loss \n",
    "f=plt.figure()\n",
    "plt.plot(hist.history['loss'], linewidth=3, label='train')\n",
    "plt.plot(hist.history['val_loss'], linewidth=3, label='valid')\n",
    "plt.grid()\n",
    "plt.legend()\n",
    "plt.xlabel('epoch')\n",
    "plt.ylabel('loss')\n",
    "plt.yscale('log')\n",
    "plt.show()"
   ]
  },
  {
   "cell_type": "code",
   "execution_count": null,
   "metadata": {
    "collapsed": true
   },
   "outputs": [],
   "source": []
  },
  {
   "cell_type": "code",
   "execution_count": null,
   "metadata": {
    "collapsed": true
   },
   "outputs": [],
   "source": []
  },
  {
   "cell_type": "code",
   "execution_count": null,
   "metadata": {
    "collapsed": true
   },
   "outputs": [],
   "source": []
  },
  {
   "cell_type": "code",
   "execution_count": 8,
   "metadata": {
    "collapsed": true
   },
   "outputs": [],
   "source": []
  },
  {
   "cell_type": "code",
   "execution_count": null,
   "metadata": {
    "collapsed": true
   },
   "outputs": [],
   "source": []
  },
  {
   "cell_type": "code",
   "execution_count": null,
   "metadata": {
    "collapsed": true
   },
   "outputs": [],
   "source": []
  }
 ],
 "metadata": {
  "kernelspec": {
   "display_name": "Python 2",
   "language": "python",
   "name": "python2"
  },
  "language_info": {
   "codemirror_mode": {
    "name": "ipython",
    "version": 2
   },
   "file_extension": ".py",
   "mimetype": "text/x-python",
   "name": "python",
   "nbconvert_exporter": "python",
   "pygments_lexer": "ipython2",
   "version": "2.7.13"
  }
 },
 "nbformat": 4,
 "nbformat_minor": 2
}
